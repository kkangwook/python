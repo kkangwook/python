{
 "cells": [
  {
   "cell_type": "markdown",
   "id": "5f0ad012-19e5-4010-8794-a76f0a601570",
   "metadata": {},
   "source": [
    "# pandas\n",
    "파이썬에서 사용하는 데이터 분석 라이브러리"
   ]
  },
  {
   "cell_type": "code",
   "execution_count": 1,
   "id": "0d3301f0-b6ac-48c1-aeba-a99f80593767",
   "metadata": {},
   "outputs": [],
   "source": [
    "import pandas as pd"
   ]
  },
  {
   "cell_type": "markdown",
   "id": "188f1a5b-693d-4b92-acab-e1f5214d83ab",
   "metadata": {},
   "source": [
    "# 1.Series\n",
    "1차원 데이터(정수, 실수, 문자열등)  \n",
    "R의 vector와 비슷한 개념"
   ]
  },
  {
   "cell_type": "markdown",
   "id": "2910c92c-2d28-4242-909d-e46a178dd91d",
   "metadata": {},
   "source": [
    "## series객체 생성\n",
    "예) 1월부터 4월까지의 평균 온도 데이터(-20, -10, 10, 20)"
   ]
  },
  {
   "cell_type": "code",
   "execution_count": 2,
   "id": "5130b3f1-0ae9-422a-830d-f4abfbb95136",
   "metadata": {
    "scrolled": true
   },
   "outputs": [
    {
     "name": "stdout",
     "output_type": "stream",
     "text": [
      "0   -20\n",
      "1   -10\n",
      "2    10\n",
      "3    20\n",
      "dtype: int64\n"
     ]
    }
   ],
   "source": [
    "temp=pd.Series([-20,-10,10,20])   #대문자S, 0번째부터 n번째 까지 매치\n",
    "print(temp)   #print없어도 됨"
   ]
  },
  {
   "cell_type": "code",
   "execution_count": 3,
   "id": "6a794490-8355-4d84-b243-82f591eb0a9b",
   "metadata": {},
   "outputs": [
    {
     "data": {
      "text/plain": [
       "array([-20, -10,  10,  20], dtype=int64)"
      ]
     },
     "execution_count": 3,
     "metadata": {},
     "output_type": "execute_result"
    }
   ],
   "source": [
    "temp.values"
   ]
  },
  {
   "cell_type": "code",
   "execution_count": 4,
   "id": "1378c18a-de92-4457-a21a-fd3ef170d9da",
   "metadata": {},
   "outputs": [
    {
     "data": {
      "text/plain": [
       "-20"
      ]
     },
     "execution_count": 4,
     "metadata": {},
     "output_type": "execute_result"
    }
   ],
   "source": [
    "temp[0] #인덱싱 가능->1월 온도"
   ]
  },
  {
   "cell_type": "code",
   "execution_count": 5,
   "id": "ab430a4a-8242-4211-a7d7-b66f63829a8b",
   "metadata": {},
   "outputs": [
    {
     "data": {
      "text/plain": [
       "10"
      ]
     },
     "execution_count": 5,
     "metadata": {},
     "output_type": "execute_result"
    }
   ],
   "source": [
    "temp[2]"
   ]
  },
  {
   "cell_type": "code",
   "execution_count": 6,
   "id": "33fadd63-ee7d-4822-964f-0aa57a581462",
   "metadata": {},
   "outputs": [
    {
     "data": {
      "text/plain": [
       "0   -20\n",
       "1   -10\n",
       "2    10\n",
       "dtype: int64"
      ]
     },
     "execution_count": 6,
     "metadata": {},
     "output_type": "execute_result"
    }
   ],
   "source": [
    "temp[[0,1,2]] #순서상관없이 여러개 뽑는법"
   ]
  },
  {
   "cell_type": "markdown",
   "id": "76c7551c-1bc0-4fcc-9764-18e8da2df1b6",
   "metadata": {},
   "source": [
    "# series 객체 생성(index 지정)"
   ]
  },
  {
   "cell_type": "code",
   "execution_count": 7,
   "id": "9dbb2e26-7029-4383-9675-05db4b456186",
   "metadata": {},
   "outputs": [
    {
     "data": {
      "text/plain": [
       "jan   -20\n",
       "feb   -10\n",
       "mar    10\n",
       "apr    20\n",
       "dtype: int64"
      ]
     },
     "execution_count": 7,
     "metadata": {},
     "output_type": "execute_result"
    }
   ],
   "source": [
    "temp=pd.Series([-20,-10,10,20],index=['jan','feb','mar','apr']) #인덱스 지정->0~3이 아닌 계절로\n",
    "temp"
   ]
  },
  {
   "cell_type": "code",
   "execution_count": 8,
   "id": "054291ac-0a89-4fe6-bbbb-89cbac22e60d",
   "metadata": {},
   "outputs": [
    {
     "data": {
      "text/plain": [
       "-20"
      ]
     },
     "execution_count": 8,
     "metadata": {},
     "output_type": "execute_result"
    }
   ],
   "source": [
    "temp['jan']   #''안에 지정한 이름으로 뽑기가능"
   ]
  },
  {
   "cell_type": "code",
   "execution_count": 9,
   "id": "427b2c66-f89c-4761-b973-5fd700b71d07",
   "metadata": {
    "scrolled": true
   },
   "outputs": [
    {
     "ename": "KeyError",
     "evalue": "'june'",
     "output_type": "error",
     "traceback": [
      "\u001b[1;31m---------------------------------------------------------------------------\u001b[0m",
      "\u001b[1;31mKeyError\u001b[0m                                  Traceback (most recent call last)",
      "File \u001b[1;32mC:\\anaconda3\\Lib\\site-packages\\pandas\\core\\indexes\\base.py:3805\u001b[0m, in \u001b[0;36mIndex.get_loc\u001b[1;34m(self, key)\u001b[0m\n\u001b[0;32m   3804\u001b[0m \u001b[38;5;28;01mtry\u001b[39;00m:\n\u001b[1;32m-> 3805\u001b[0m     \u001b[38;5;28;01mreturn\u001b[39;00m \u001b[38;5;28mself\u001b[39m\u001b[38;5;241m.\u001b[39m_engine\u001b[38;5;241m.\u001b[39mget_loc(casted_key)\n\u001b[0;32m   3806\u001b[0m \u001b[38;5;28;01mexcept\u001b[39;00m \u001b[38;5;167;01mKeyError\u001b[39;00m \u001b[38;5;28;01mas\u001b[39;00m err:\n",
      "File \u001b[1;32mindex.pyx:167\u001b[0m, in \u001b[0;36mpandas._libs.index.IndexEngine.get_loc\u001b[1;34m()\u001b[0m\n",
      "File \u001b[1;32mindex.pyx:196\u001b[0m, in \u001b[0;36mpandas._libs.index.IndexEngine.get_loc\u001b[1;34m()\u001b[0m\n",
      "File \u001b[1;32mpandas\\\\_libs\\\\hashtable_class_helper.pxi:7081\u001b[0m, in \u001b[0;36mpandas._libs.hashtable.PyObjectHashTable.get_item\u001b[1;34m()\u001b[0m\n",
      "File \u001b[1;32mpandas\\\\_libs\\\\hashtable_class_helper.pxi:7089\u001b[0m, in \u001b[0;36mpandas._libs.hashtable.PyObjectHashTable.get_item\u001b[1;34m()\u001b[0m\n",
      "\u001b[1;31mKeyError\u001b[0m: 'june'",
      "\nThe above exception was the direct cause of the following exception:\n",
      "\u001b[1;31mKeyError\u001b[0m                                  Traceback (most recent call last)",
      "Cell \u001b[1;32mIn[9], line 1\u001b[0m\n\u001b[1;32m----> 1\u001b[0m temp[\u001b[38;5;124m'\u001b[39m\u001b[38;5;124mjune\u001b[39m\u001b[38;5;124m'\u001b[39m]\n",
      "File \u001b[1;32mC:\\anaconda3\\Lib\\site-packages\\pandas\\core\\series.py:1121\u001b[0m, in \u001b[0;36mSeries.__getitem__\u001b[1;34m(self, key)\u001b[0m\n\u001b[0;32m   1118\u001b[0m     \u001b[38;5;28;01mreturn\u001b[39;00m \u001b[38;5;28mself\u001b[39m\u001b[38;5;241m.\u001b[39m_values[key]\n\u001b[0;32m   1120\u001b[0m \u001b[38;5;28;01melif\u001b[39;00m key_is_scalar:\n\u001b[1;32m-> 1121\u001b[0m     \u001b[38;5;28;01mreturn\u001b[39;00m \u001b[38;5;28mself\u001b[39m\u001b[38;5;241m.\u001b[39m_get_value(key)\n\u001b[0;32m   1123\u001b[0m \u001b[38;5;66;03m# Convert generator to list before going through hashable part\u001b[39;00m\n\u001b[0;32m   1124\u001b[0m \u001b[38;5;66;03m# (We will iterate through the generator there to check for slices)\u001b[39;00m\n\u001b[0;32m   1125\u001b[0m \u001b[38;5;28;01mif\u001b[39;00m is_iterator(key):\n",
      "File \u001b[1;32mC:\\anaconda3\\Lib\\site-packages\\pandas\\core\\series.py:1237\u001b[0m, in \u001b[0;36mSeries._get_value\u001b[1;34m(self, label, takeable)\u001b[0m\n\u001b[0;32m   1234\u001b[0m     \u001b[38;5;28;01mreturn\u001b[39;00m \u001b[38;5;28mself\u001b[39m\u001b[38;5;241m.\u001b[39m_values[label]\n\u001b[0;32m   1236\u001b[0m \u001b[38;5;66;03m# Similar to Index.get_value, but we do not fall back to positional\u001b[39;00m\n\u001b[1;32m-> 1237\u001b[0m loc \u001b[38;5;241m=\u001b[39m \u001b[38;5;28mself\u001b[39m\u001b[38;5;241m.\u001b[39mindex\u001b[38;5;241m.\u001b[39mget_loc(label)\n\u001b[0;32m   1239\u001b[0m \u001b[38;5;28;01mif\u001b[39;00m is_integer(loc):\n\u001b[0;32m   1240\u001b[0m     \u001b[38;5;28;01mreturn\u001b[39;00m \u001b[38;5;28mself\u001b[39m\u001b[38;5;241m.\u001b[39m_values[loc]\n",
      "File \u001b[1;32mC:\\anaconda3\\Lib\\site-packages\\pandas\\core\\indexes\\base.py:3812\u001b[0m, in \u001b[0;36mIndex.get_loc\u001b[1;34m(self, key)\u001b[0m\n\u001b[0;32m   3807\u001b[0m     \u001b[38;5;28;01mif\u001b[39;00m \u001b[38;5;28misinstance\u001b[39m(casted_key, \u001b[38;5;28mslice\u001b[39m) \u001b[38;5;129;01mor\u001b[39;00m (\n\u001b[0;32m   3808\u001b[0m         \u001b[38;5;28misinstance\u001b[39m(casted_key, abc\u001b[38;5;241m.\u001b[39mIterable)\n\u001b[0;32m   3809\u001b[0m         \u001b[38;5;129;01mand\u001b[39;00m \u001b[38;5;28many\u001b[39m(\u001b[38;5;28misinstance\u001b[39m(x, \u001b[38;5;28mslice\u001b[39m) \u001b[38;5;28;01mfor\u001b[39;00m x \u001b[38;5;129;01min\u001b[39;00m casted_key)\n\u001b[0;32m   3810\u001b[0m     ):\n\u001b[0;32m   3811\u001b[0m         \u001b[38;5;28;01mraise\u001b[39;00m InvalidIndexError(key)\n\u001b[1;32m-> 3812\u001b[0m     \u001b[38;5;28;01mraise\u001b[39;00m \u001b[38;5;167;01mKeyError\u001b[39;00m(key) \u001b[38;5;28;01mfrom\u001b[39;00m \u001b[38;5;21;01merr\u001b[39;00m\n\u001b[0;32m   3813\u001b[0m \u001b[38;5;28;01mexcept\u001b[39;00m \u001b[38;5;167;01mTypeError\u001b[39;00m:\n\u001b[0;32m   3814\u001b[0m     \u001b[38;5;66;03m# If we have a listlike key, _check_indexing_error will raise\u001b[39;00m\n\u001b[0;32m   3815\u001b[0m     \u001b[38;5;66;03m#  InvalidIndexError. Otherwise we fall through and re-raise\u001b[39;00m\n\u001b[0;32m   3816\u001b[0m     \u001b[38;5;66;03m#  the TypeError.\u001b[39;00m\n\u001b[0;32m   3817\u001b[0m     \u001b[38;5;28mself\u001b[39m\u001b[38;5;241m.\u001b[39m_check_indexing_error(key)\n",
      "\u001b[1;31mKeyError\u001b[0m: 'june'"
     ]
    }
   ],
   "source": [
    "temp['june']  #지정안해준 애는 에러남"
   ]
  },
  {
   "cell_type": "code",
   "execution_count": 11,
   "id": "f0a4d9bf-14c6-407f-a96e-5f90d1813ed0",
   "metadata": {},
   "outputs": [
    {
     "name": "stdout",
     "output_type": "stream",
     "text": [
      "-10\n",
      "20\n"
     ]
    }
   ],
   "source": [
    "print(temp.loc['feb'])\n",
    "print(temp.iloc[-1])  #loc, iloc둘다 가능"
   ]
  },
  {
   "cell_type": "markdown",
   "id": "068e28b9-ffb5-49a1-b0b2-9f5681199206",
   "metadata": {},
   "source": [
    "## Series 값 추가하기"
   ]
  },
  {
   "cell_type": "code",
   "execution_count": 12,
   "id": "b25e17a3-358c-4174-b42b-e5cf5be63343",
   "metadata": {},
   "outputs": [
    {
     "data": {
      "text/plain": [
       "jan   -20\n",
       "feb   -10\n",
       "mar    10\n",
       "apr    20\n",
       "may    30\n",
       "dtype: int64"
      ]
     },
     "execution_count": 12,
     "metadata": {},
     "output_type": "execute_result"
    }
   ],
   "source": [
    "temp.loc['may']=30\n",
    "temp"
   ]
  },
  {
   "cell_type": "markdown",
   "id": "1caaee04-7921-4236-b718-44451e81f1e4",
   "metadata": {},
   "source": [
    "## Series 삭제하기\n",
    "drop(index값)"
   ]
  },
  {
   "cell_type": "code",
   "execution_count": 16,
   "id": "441c1cb6-92e4-40e7-896e-e6212e8a9fe9",
   "metadata": {},
   "outputs": [
    {
     "data": {
      "text/plain": [
       "jan   -20\n",
       "feb   -10\n",
       "mar    10\n",
       "apr    20\n",
       "dtype: int64"
      ]
     },
     "execution_count": 16,
     "metadata": {},
     "output_type": "execute_result"
    }
   ],
   "source": [
    "temp.drop('may')"
   ]
  },
  {
   "cell_type": "code",
   "execution_count": 17,
   "id": "330efd98-6e33-4f82-a9d9-5ea897f2bb0e",
   "metadata": {},
   "outputs": [
    {
     "data": {
      "text/plain": [
       "jan   -20\n",
       "feb   -10\n",
       "mar    10\n",
       "dtype: int64"
      ]
     },
     "execution_count": 17,
     "metadata": {},
     "output_type": "execute_result"
    }
   ],
   "source": [
    "temp.drop(['may','apr']) #여러개 삭제"
   ]
  },
  {
   "cell_type": "code",
   "execution_count": 18,
   "id": "76d17ce9-226a-4ad2-8245-fc9ef8a6a8c6",
   "metadata": {},
   "outputs": [
    {
     "data": {
      "text/plain": [
       "jan   -20\n",
       "feb   -10\n",
       "mar    10\n",
       "apr    20\n",
       "may    30\n",
       "dtype: int64"
      ]
     },
     "execution_count": 18,
     "metadata": {},
     "output_type": "execute_result"
    }
   ],
   "source": [
    "temp #보여주기만 할 뿐 적용된것은X-> inplace=True로"
   ]
  },
  {
   "cell_type": "markdown",
   "id": "cc24a8dc-b93b-447a-ae4b-65af507ac06a",
   "metadata": {},
   "source": [
    "## Series 수정"
   ]
  },
  {
   "cell_type": "code",
   "execution_count": 19,
   "id": "9e2a4989-49a5-4033-8561-0f3a30e710f2",
   "metadata": {},
   "outputs": [
    {
     "data": {
      "text/plain": [
       "jan   -20\n",
       "feb   -10\n",
       "mar    10\n",
       "apr    20\n",
       "may    40\n",
       "dtype: int64"
      ]
     },
     "execution_count": 19,
     "metadata": {},
     "output_type": "execute_result"
    }
   ],
   "source": [
    "temp.loc['may']=40 #iloc도 가능\n",
    "temp"
   ]
  },
  {
   "cell_type": "markdown",
   "id": "12cc64f0-9fb1-4fc1-b271-8d28eca669d8",
   "metadata": {},
   "source": [
    "# Series연산\n",
    "broadcasting=연산이 시리즈 객체에 전체 적용"
   ]
  },
  {
   "cell_type": "code",
   "execution_count": 23,
   "id": "2f06ae61-6a23-40bf-8e86-7814e7dde189",
   "metadata": {},
   "outputs": [
    {
     "name": "stdout",
     "output_type": "stream",
     "text": [
      "jan     80\n",
      "feb     90\n",
      "mar    110\n",
      "apr    120\n",
      "may    140\n",
      "dtype: int64 jan   -120\n",
      "feb   -110\n",
      "mar    -90\n",
      "apr    -80\n",
      "may    -60\n",
      "dtype: int64 jan   -200\n",
      "feb   -100\n",
      "mar    100\n",
      "apr    200\n",
      "may    400\n",
      "dtype: int64 jan   -0.2\n",
      "feb   -0.1\n",
      "mar    0.1\n",
      "apr    0.2\n",
      "may    0.4\n",
      "dtype: float64\n"
     ]
    }
   ],
   "source": [
    "print(temp+100,temp-100,temp*10,temp/100) #모든 요소에 사칙연산"
   ]
  },
  {
   "cell_type": "markdown",
   "id": "21f49800-4828-4ed1-842c-ffb7922d5554",
   "metadata": {},
   "source": [
    "## 인덱스가 다른 시리즈 간의 사칙연산"
   ]
  },
  {
   "cell_type": "code",
   "execution_count": 25,
   "id": "f33aad19-202c-480c-8b13-0166c77ccec1",
   "metadata": {},
   "outputs": [
    {
     "data": {
      "text/plain": [
       "a    800.0\n",
       "b    700.0\n",
       "c      NaN\n",
       "d      NaN\n",
       "dtype: float64"
      ]
     },
     "execution_count": 25,
     "metadata": {},
     "output_type": "execute_result"
    }
   ],
   "source": [
    "high=pd.Series([51500,51200,52500],index=['a','b','c'])\n",
    "low=pd.Series([50700,50500,50500],index=['a','b','d'])\n",
    "high-low  #같은 인덱스꺼만 계산, 인덱스 없으면 같은 위치에 있는것 계산"
   ]
  },
  {
   "cell_type": "markdown",
   "id": "1d6a94a6-8291-49cb-a1a4-12ce20b1eb49",
   "metadata": {},
   "source": [
    "## Series비교 연산"
   ]
  },
  {
   "cell_type": "code",
   "execution_count": 26,
   "id": "513e8663-f664-476d-8b0e-eda28981db2f",
   "metadata": {},
   "outputs": [
    {
     "data": {
      "text/plain": [
       "0    False\n",
       "1    False\n",
       "2    False\n",
       "3     True\n",
       "4     True\n",
       "dtype: bool"
      ]
     },
     "execution_count": 26,
     "metadata": {},
     "output_type": "execute_result"
    }
   ],
   "source": [
    "s=pd.Series([100,200,300,400,500])\n",
    "s>300"
   ]
  },
  {
   "cell_type": "markdown",
   "id": "5358f450-34e0-4bd1-9cbe-e587bfd50bcc",
   "metadata": {},
   "source": [
    "## Series 필터링"
   ]
  },
  {
   "cell_type": "code",
   "execution_count": 27,
   "id": "5bf734b0-d9dd-4abd-9bdf-578ac9e1df08",
   "metadata": {},
   "outputs": [
    {
     "data": {
      "text/plain": [
       "3    400\n",
       "4    500\n",
       "dtype: int64"
      ]
     },
     "execution_count": 27,
     "metadata": {},
     "output_type": "execute_result"
    }
   ],
   "source": [
    "s[s>300]"
   ]
  },
  {
   "cell_type": "code",
   "execution_count": null,
   "id": "73ec6fe5-aff4-4c77-8da2-e57728d7e150",
   "metadata": {},
   "outputs": [],
   "source": []
  }
 ],
 "metadata": {
  "kernelspec": {
   "display_name": "Python 3 (ipykernel)",
   "language": "python",
   "name": "python3"
  },
  "language_info": {
   "codemirror_mode": {
    "name": "ipython",
    "version": 3
   },
   "file_extension": ".py",
   "mimetype": "text/x-python",
   "name": "python",
   "nbconvert_exporter": "python",
   "pygments_lexer": "ipython3",
   "version": "3.12.7"
  }
 },
 "nbformat": 4,
 "nbformat_minor": 5
}

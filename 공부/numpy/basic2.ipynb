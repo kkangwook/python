{
 "cells": [
  {
   "cell_type": "markdown",
   "id": "7a83d04c-81c9-4e0f-b30b-24f6f7062dbd",
   "metadata": {},
   "source": [
    "# 1. 넘파이\n",
    "벡터화된 코드는 간결하고 읽기 쉽다.  \n",
    "코드 줄 수가 적어 버그가 적다"
   ]
  },
  {
   "cell_type": "code",
   "execution_count": 1,
   "id": "c5dc9be1-2f19-4c54-9d72-5b32e38b9eda",
   "metadata": {},
   "outputs": [],
   "source": [
    "import numpy as np"
   ]
  },
  {
   "cell_type": "code",
   "execution_count": 3,
   "id": "e7c382fe-9e78-4478-bae2-d1e726594c69",
   "metadata": {},
   "outputs": [
    {
     "data": {
      "text/plain": [
       "array([[ 0,  1,  2,  3,  4],\n",
       "       [ 5,  6,  7,  8,  9],\n",
       "       [10, 11, 12, 13, 14]])"
      ]
     },
     "execution_count": 3,
     "metadata": {},
     "output_type": "execute_result"
    }
   ],
   "source": [
    "x=np.arange(15).reshape(3,5) #0~14까지 3행 5열로(row방향 우선으로)\n",
    "x"
   ]
  },
  {
   "cell_type": "code",
   "execution_count": 5,
   "id": "a9f8b5d3-0acd-40d7-a254-edc00f6ab615",
   "metadata": {},
   "outputs": [
    {
     "data": {
      "text/plain": [
       "(3, 5)"
      ]
     },
     "execution_count": 5,
     "metadata": {},
     "output_type": "execute_result"
    }
   ],
   "source": [
    "x.shape # dim"
   ]
  },
  {
   "cell_type": "markdown",
   "id": "d4b598e3-466e-493c-99e4-8ace45f6cc10",
   "metadata": {},
   "source": [
    "## 인덱싱"
   ]
  },
  {
   "cell_type": "code",
   "execution_count": 7,
   "id": "b33aad5a-fb1d-4de9-8f2b-758d74affbf0",
   "metadata": {},
   "outputs": [
    {
     "data": {
      "text/plain": [
       "array([[ 0,  1,  2,  3,  4],\n",
       "       [ 5,  6,  7,  8,  9],\n",
       "       [10, 11, 12, 13, 14]])"
      ]
     },
     "execution_count": 7,
     "metadata": {},
     "output_type": "execute_result"
    }
   ],
   "source": [
    "x[:,:] #행, 열 전체"
   ]
  },
  {
   "cell_type": "code",
   "execution_count": 9,
   "id": "e055ae83-d9f3-43f5-bb83-63ddc7e5066e",
   "metadata": {},
   "outputs": [
    {
     "data": {
      "text/plain": [
       "array([[ 5,  7,  9],\n",
       "       [10, 12, 14]])"
      ]
     },
     "execution_count": 9,
     "metadata": {},
     "output_type": "execute_result"
    }
   ],
   "source": [
    "x[1:,::2] # 추가적인 :는 2번 건너뛴다-> 0,2,4열 뽑기"
   ]
  },
  {
   "cell_type": "markdown",
   "id": "1a5aa2ed-5593-4461-9cb7-43717f0f772f",
   "metadata": {},
   "source": [
    "## 요소 변경"
   ]
  },
  {
   "cell_type": "code",
   "execution_count": 10,
   "id": "d09c4d44-800c-4c1e-9582-6e1f103a79ae",
   "metadata": {},
   "outputs": [
    {
     "data": {
      "text/plain": [
       "array([[  0,   1,   2,   3,   4],\n",
       "       [-99,   6, -99,   8, -99],\n",
       "       [-99,  11, -99,  13, -99]])"
      ]
     },
     "execution_count": 10,
     "metadata": {},
     "output_type": "execute_result"
    }
   ],
   "source": [
    "x[1:,::2]=-99\n",
    "x"
   ]
  },
  {
   "cell_type": "markdown",
   "id": "43e9c955-e4e3-40f7-9866-8907b9a83084",
   "metadata": {},
   "source": [
    "## 함수사용"
   ]
  },
  {
   "cell_type": "code",
   "execution_count": 12,
   "id": "505ad12a-8b39-4ac9-bba5-bd26957d5032",
   "metadata": {},
   "outputs": [
    {
     "data": {
      "text/plain": [
       "13"
      ]
     },
     "execution_count": 12,
     "metadata": {},
     "output_type": "execute_result"
    }
   ],
   "source": [
    "x.max() #최대값"
   ]
  },
  {
   "cell_type": "code",
   "execution_count": 13,
   "id": "15b6c767-f8e2-4839-b831-c5069d572cb9",
   "metadata": {},
   "outputs": [
    {
     "data": {
      "text/plain": [
       "array([ 4,  8, 13])"
      ]
     },
     "execution_count": 13,
     "metadata": {},
     "output_type": "execute_result"
    }
   ],
   "source": [
    "x.max(axis=1) #행"
   ]
  },
  {
   "cell_type": "code",
   "execution_count": 14,
   "id": "13d17c75-a405-40e2-80ee-2fddc4dfe2a1",
   "metadata": {},
   "outputs": [
    {
     "data": {
      "text/plain": [
       "array([ 0, 11,  2, 13,  4])"
      ]
     },
     "execution_count": 14,
     "metadata": {},
     "output_type": "execute_result"
    }
   ],
   "source": [
    "x.max(axis=0) #열 중"
   ]
  },
  {
   "cell_type": "code",
   "execution_count": 17,
   "id": "f1333aa8-d8ac-46ec-8a2d-5beca889bd86",
   "metadata": {},
   "outputs": [
    {
     "data": {
      "text/plain": [
       "array([-99, -99, -99])"
      ]
     },
     "execution_count": 17,
     "metadata": {},
     "output_type": "execute_result"
    }
   ],
   "source": [
    "x[1:,::2].max(axis=0) #인덱싱 후 함수사용 가능"
   ]
  },
  {
   "cell_type": "markdown",
   "id": "6d91e853-b111-4f1b-b6a0-8bcd860b0296",
   "metadata": {},
   "source": [
    "## 정규분포 만들기"
   ]
  },
  {
   "cell_type": "code",
   "execution_count": 18,
   "id": "e1727a47-3cdf-45bf-8d18-dadc2120d2be",
   "metadata": {
    "scrolled": true
   },
   "outputs": [
    {
     "data": {
      "text/plain": [
       "array([ 0.21152867,  0.79930082, -0.84835314, ..., -0.23568154,\n",
       "        1.86739823,  0.61774861])"
      ]
     },
     "execution_count": 18,
     "metadata": {},
     "output_type": "execute_result"
    }
   ],
   "source": [
    "# 정규분포 수들 만들기\n",
    "rng=np.random.default_rng()\n",
    "samples=rng.normal(size=2500)\n",
    "samples"
   ]
  },
  {
   "cell_type": "code",
   "execution_count": 19,
   "id": "9718d4d6-ec7e-4bc3-b07c-9ce60e72d905",
   "metadata": {
    "scrolled": true
   },
   "outputs": [
    {
     "data": {
      "text/plain": [
       "2500"
      ]
     },
     "execution_count": 19,
     "metadata": {},
     "output_type": "execute_result"
    }
   ],
   "source": [
    "len(samples)"
   ]
  },
  {
   "cell_type": "markdown",
   "id": "7d1bf939-02d1-48d0-a798-3db70fb87eab",
   "metadata": {},
   "source": [
    "## 벡터간 연산"
   ]
  },
  {
   "cell_type": "code",
   "execution_count": 21,
   "id": "b5aa7890-1694-49cd-ac85-a3b5ae798190",
   "metadata": {},
   "outputs": [
    {
     "name": "stdout",
     "output_type": "stream",
     "text": [
      "[ 0  6 14 24 36] [ 5  7  9 11 13] [-5 -5 -5 -5 -5] [0.         0.16666667 0.28571429 0.375      0.44444444]\n"
     ]
    }
   ],
   "source": [
    "a=np.arange(5)\n",
    "b=np.arange(5,10)\n",
    "print(a*b,a+b,a-b,a/b)"
   ]
  },
  {
   "cell_type": "code",
   "execution_count": null,
   "id": "d3320588-4ec7-4287-96b3-1a25778a40a6",
   "metadata": {},
   "outputs": [],
   "source": []
  }
 ],
 "metadata": {
  "kernelspec": {
   "display_name": "Python 3 (ipykernel)",
   "language": "python",
   "name": "python3"
  },
  "language_info": {
   "codemirror_mode": {
    "name": "ipython",
    "version": 3
   },
   "file_extension": ".py",
   "mimetype": "text/x-python",
   "name": "python",
   "nbconvert_exporter": "python",
   "pygments_lexer": "ipython3",
   "version": "3.12.7"
  }
 },
 "nbformat": 4,
 "nbformat_minor": 5
}

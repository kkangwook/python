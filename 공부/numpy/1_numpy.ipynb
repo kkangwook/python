{
 "cells": [
  {
   "cell_type": "markdown",
   "id": "65bf0420-f908-434c-bbb8-1d092c7e69c8",
   "metadata": {},
   "source": [
    "# Numpy"
   ]
  },
  {
   "cell_type": "markdown",
   "id": "b75a4f34-dba4-4da2-9a17-3847fa03d513",
   "metadata": {},
   "source": [
    "## arange"
   ]
  },
  {
   "cell_type": "code",
   "execution_count": 1,
   "id": "1fd9d7b8-6a15-4484-8e51-b4f65f81d5df",
   "metadata": {},
   "outputs": [],
   "source": [
    "import numpy as np"
   ]
  },
  {
   "cell_type": "code",
   "execution_count": 5,
   "id": "cbcc78b2-0243-4731-956e-b327d954e5d2",
   "metadata": {},
   "outputs": [
    {
     "data": {
      "text/plain": [
       "array([0, 1, 2, 3, 4, 5])"
      ]
     },
     "execution_count": 5,
     "metadata": {},
     "output_type": "execute_result"
    }
   ],
   "source": [
    "a=np.arange(6) # 0~5까지\n",
    "a #1차원 형태"
   ]
  },
  {
   "cell_type": "code",
   "execution_count": 7,
   "id": "a1c061cf-797e-487b-a250-4545ea71380c",
   "metadata": {},
   "outputs": [
    {
     "data": {
      "text/plain": [
       "array([[0, 1, 2, 3, 4, 5]])"
      ]
     },
     "execution_count": 7,
     "metadata": {},
     "output_type": "execute_result"
    }
   ],
   "source": [
    "a2=a[np.newaxis,:] #2차원으로\n",
    "a2"
   ]
  },
  {
   "cell_type": "code",
   "execution_count": 9,
   "id": "f9fc86b6-a87d-4d5c-b085-5d90b8349439",
   "metadata": {},
   "outputs": [
    {
     "data": {
      "text/plain": [
       "((6,), (1, 6))"
      ]
     },
     "execution_count": 9,
     "metadata": {},
     "output_type": "execute_result"
    }
   ],
   "source": [
    "a.shape, a2.shape"
   ]
  },
  {
   "cell_type": "markdown",
   "id": "a1783ef0-d7ba-429a-8340-b25ed1007f2e",
   "metadata": {},
   "source": [
    "## array"
   ]
  },
  {
   "cell_type": "code",
   "execution_count": 11,
   "id": "ef0aa73d-0de6-4bc0-b789-41b2b4f5ebc6",
   "metadata": {},
   "outputs": [
    {
     "data": {
      "text/plain": [
       "array([0, 1, 2, 3])"
      ]
     },
     "execution_count": 11,
     "metadata": {},
     "output_type": "execute_result"
    }
   ],
   "source": [
    "b_list=[0,1,2,3]\n",
    "b=np.array(b_list)\n",
    "b"
   ]
  },
  {
   "cell_type": "code",
   "execution_count": 13,
   "id": "1de08c74-bf58-41bb-b338-2eca8527803e",
   "metadata": {
    "scrolled": true
   },
   "outputs": [
    {
     "data": {
      "text/plain": [
       "array([1, 2, 3, 4, 5, 6])"
      ]
     },
     "execution_count": 13,
     "metadata": {},
     "output_type": "execute_result"
    }
   ],
   "source": [
    "a=np.array([1,2,3,4,5,6]) #리스트의 형태로 집어넣음\n",
    "a"
   ]
  },
  {
   "cell_type": "code",
   "execution_count": 16,
   "id": "b942cdb2-2e38-4903-b653-6dd5dc2b2649",
   "metadata": {
    "scrolled": true
   },
   "outputs": [
    {
     "data": {
      "text/plain": [
       "array([[1, 2, 3, 4],\n",
       "       [3, 4, 5, 6],\n",
       "       [5, 6, 7, 8]])"
      ]
     },
     "execution_count": 16,
     "metadata": {},
     "output_type": "execute_result"
    }
   ],
   "source": [
    "a=np.array([[1,2,3,4],[3,4,5,6],[5,6,7,8]]) #리스트 안에 여러 리스트로 2차원 형태\n",
    "a"
   ]
  },
  {
   "cell_type": "markdown",
   "id": "366e6a95-60aa-4432-b2c1-f8f390d33ed9",
   "metadata": {},
   "source": [
    "## 인덱싱"
   ]
  },
  {
   "cell_type": "code",
   "execution_count": 19,
   "id": "82b18f2c-fe0c-43fd-aa3d-1a2ba8b8e2a7",
   "metadata": {},
   "outputs": [
    {
     "data": {
      "text/plain": [
       "array([1, 2, 3, 4])"
      ]
     },
     "execution_count": 19,
     "metadata": {},
     "output_type": "execute_result"
    }
   ],
   "source": [
    "a[0] #[,]아니면 행으로 가지고 옴"
   ]
  },
  {
   "cell_type": "code",
   "execution_count": 18,
   "id": "f47b6d4a-95cd-4f2f-9011-01e024b03b5b",
   "metadata": {},
   "outputs": [
    {
     "data": {
      "text/plain": [
       "array([3, 5, 7])"
      ]
     },
     "execution_count": 18,
     "metadata": {},
     "output_type": "execute_result"
    }
   ],
   "source": [
    "a[:,2]"
   ]
  },
  {
   "cell_type": "code",
   "execution_count": 20,
   "id": "7ef6e56a-4fc6-4b76-bb17-5953d5cbf5fc",
   "metadata": {},
   "outputs": [
    {
     "data": {
      "text/plain": [
       "8"
      ]
     },
     "execution_count": 20,
     "metadata": {},
     "output_type": "execute_result"
    }
   ],
   "source": [
    "a[2,3]"
   ]
  },
  {
   "cell_type": "markdown",
   "id": "09af7b7b-f845-4588-80ac-3c554e377346",
   "metadata": {},
   "source": [
    "## array와 list의 차이"
   ]
  },
  {
   "cell_type": "code",
   "execution_count": 12,
   "id": "1ea5d847-00aa-4cc5-a9ec-78e4808e56d0",
   "metadata": {},
   "outputs": [
    {
     "name": "stdout",
     "output_type": "stream",
     "text": [
      "[0, '1', 2.0, 3]\n",
      "['0' '1' '2.0' '3']\n"
     ]
    }
   ],
   "source": [
    "# 리스트와 넘파이array의 차이\n",
    "c_list=[0,'1',2.0,3]\n",
    "c=np.array(c_list)\n",
    "print(c_list) #다른 종류끼리 가능\n",
    "print(c)  #다 같은 종류가 됨"
   ]
  },
  {
   "cell_type": "code",
   "execution_count": null,
   "id": "95fe8182-d224-409f-93ab-8d8464d8e3c1",
   "metadata": {},
   "outputs": [],
   "source": [
    "a=np.array()"
   ]
  }
 ],
 "metadata": {
  "kernelspec": {
   "display_name": "Python 3 (ipykernel)",
   "language": "python",
   "name": "python3"
  },
  "language_info": {
   "codemirror_mode": {
    "name": "ipython",
    "version": 3
   },
   "file_extension": ".py",
   "mimetype": "text/x-python",
   "name": "python",
   "nbconvert_exporter": "python",
   "pygments_lexer": "ipython3",
   "version": "3.12.7"
  }
 },
 "nbformat": 4,
 "nbformat_minor": 5
}

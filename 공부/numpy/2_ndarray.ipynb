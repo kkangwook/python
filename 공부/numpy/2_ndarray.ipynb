{
 "cells": [
  {
   "cell_type": "markdown",
   "id": "ae20f5e5-742b-417d-9bfb-3011e0a90bb3",
   "metadata": {},
   "source": [
    "# ndarray-n차원 배열\n",
    "1-D는 vector  \n",
    "2-D는 matrix  \n",
    "3-D이상은 tensor  \n",
    "차원은 axes라고 함"
   ]
  },
  {
   "cell_type": "markdown",
   "id": "74e55f92-907a-4bbb-8b03-42d7f9541adc",
   "metadata": {},
   "source": [
    "# 1.배열 만들기\n",
    "np.array(), np.zeros(), np.ones(), np.empty(), np.arange(), np.linspace(), dtype"
   ]
  },
  {
   "cell_type": "code",
   "execution_count": 1,
   "id": "2f2d4348-3d6f-4421-851d-324e0971b01a",
   "metadata": {},
   "outputs": [],
   "source": [
    "import numpy as np"
   ]
  },
  {
   "cell_type": "markdown",
   "id": "a2f10755-e95a-474e-b2ce-de07926c11b2",
   "metadata": {},
   "source": [
    "### np.array(object,dtype,*,copy,order)"
   ]
  },
  {
   "cell_type": "code",
   "execution_count": 4,
   "id": "5a2c2c03-29e8-4426-ada5-78cc2c422387",
   "metadata": {},
   "outputs": [
    {
     "name": "stdout",
     "output_type": "stream",
     "text": [
      "(3,)\n"
     ]
    },
    {
     "data": {
      "text/plain": [
       "array([1, 2, 3])"
      ]
     },
     "execution_count": 4,
     "metadata": {},
     "output_type": "execute_result"
    }
   ],
   "source": [
    "a=np.array([1,2,3]) #1차원이면 행만있는 형태(가로로)\n",
    "print(a.shape)\n",
    "a"
   ]
  },
  {
   "cell_type": "code",
   "execution_count": 54,
   "id": "14f37ea2-f492-4587-b1c4-d8b4cf5f2fcc",
   "metadata": {},
   "outputs": [
    {
     "data": {
      "text/plain": [
       "(array([[1, 2, 3]]), (1, 3))"
      ]
     },
     "execution_count": 54,
     "metadata": {},
     "output_type": "execute_result"
    }
   ],
   "source": [
    "b=np.array([[1,2,3]]) #가로2개면 2차원 형태\n",
    "b, b.shape"
   ]
  },
  {
   "cell_type": "markdown",
   "id": "b71952d3-7b6f-4293-8b51-5a23c337aaff",
   "metadata": {},
   "source": [
    "### np.zeros(shape,dtype,order)"
   ]
  },
  {
   "cell_type": "code",
   "execution_count": 3,
   "id": "e381cf4e-8f88-48cd-a0f2-9e48ce806338",
   "metadata": {},
   "outputs": [
    {
     "data": {
      "text/plain": [
       "array([0., 0., 0., 0.])"
      ]
     },
     "execution_count": 3,
     "metadata": {},
     "output_type": "execute_result"
    }
   ],
   "source": [
    "# 0으로 채워진 배열\n",
    "z=np.zeros(4)\n",
    "z"
   ]
  },
  {
   "cell_type": "code",
   "execution_count": 4,
   "id": "23542d92-1484-417b-83b5-6c1a6f87894f",
   "metadata": {},
   "outputs": [
    {
     "data": {
      "text/plain": [
       "(4,)"
      ]
     },
     "execution_count": 4,
     "metadata": {},
     "output_type": "execute_result"
    }
   ],
   "source": [
    "z.shape"
   ]
  },
  {
   "cell_type": "code",
   "execution_count": 7,
   "id": "b9a1d908-661a-4e20-ba0f-8c0da3982be5",
   "metadata": {},
   "outputs": [
    {
     "data": {
      "text/plain": [
       "array([[0., 0., 0.],\n",
       "       [0., 0., 0.]])"
      ]
     },
     "execution_count": 7,
     "metadata": {},
     "output_type": "execute_result"
    }
   ],
   "source": [
    "np.zeros([2,3]) #안에 리스트 넣어 2행 3열로"
   ]
  },
  {
   "cell_type": "markdown",
   "id": "d3daf865-66d3-41d0-a794-5835e19ce5ff",
   "metadata": {},
   "source": [
    "### np.ones(shape,dtype,order)"
   ]
  },
  {
   "cell_type": "code",
   "execution_count": 6,
   "id": "4351d631-c782-4154-8de0-9ea366ff6e1d",
   "metadata": {},
   "outputs": [
    {
     "data": {
      "text/plain": [
       "array([1., 1., 1., 1.])"
      ]
     },
     "execution_count": 6,
     "metadata": {},
     "output_type": "execute_result"
    }
   ],
   "source": [
    "# 1로 채워진 배열\n",
    "np.ones(4)"
   ]
  },
  {
   "cell_type": "code",
   "execution_count": 8,
   "id": "02522c5d-9df7-4db1-84ff-46de6a9461c7",
   "metadata": {},
   "outputs": [
    {
     "data": {
      "text/plain": [
       "array([[1., 1., 1.],\n",
       "       [1., 1., 1.]])"
      ]
     },
     "execution_count": 8,
     "metadata": {},
     "output_type": "execute_result"
    }
   ],
   "source": [
    "np.ones([2,3])"
   ]
  },
  {
   "cell_type": "markdown",
   "id": "c6598aab-5db6-42e5-a013-ed6d702bec1d",
   "metadata": {},
   "source": [
    "### np.empty(shape,dtype,order)"
   ]
  },
  {
   "cell_type": "code",
   "execution_count": 12,
   "id": "853e05a8-7ff3-4710-9483-003d8fb95a88",
   "metadata": {},
   "outputs": [
    {
     "data": {
      "text/plain": [
       "array([ 1.17130813e-311,  5.82997462e-322,  0.00000000e+000,\n",
       "        0.00000000e+000,  8.01097888e-307,  1.16095484e-028,\n",
       "        1.33733649e+160,  8.12555790e-096,  5.41236181e-072,\n",
       "       -1.55011805e-164, -1.82019278e-262, -4.58435119e-256,\n",
       "       -2.57832455e-171, -2.35329437e+210,  8.82142681e+199,\n",
       "        1.71872049e+161,  4.30259873e-096,  9.80058441e+252,\n",
       "        1.23971686e+224,  6.80144762e-310])"
      ]
     },
     "execution_count": 12,
     "metadata": {},
     "output_type": "execute_result"
    }
   ],
   "source": [
    "# 임의로 값 넣기\n",
    "np.empty(20)"
   ]
  },
  {
   "cell_type": "code",
   "execution_count": 13,
   "id": "91ef45f9-f7d3-4258-a73c-ecee45664c25",
   "metadata": {},
   "outputs": [
    {
     "data": {
      "text/plain": [
       "array([[0.00000000e+000, 0.00000000e+000, 0.00000000e+000,\n",
       "        0.00000000e+000, 0.00000000e+000],\n",
       "       [0.00000000e+000, 0.00000000e+000, 0.00000000e+000,\n",
       "        0.00000000e+000, 0.00000000e+000],\n",
       "       [0.00000000e+000, 0.00000000e+000, 0.00000000e+000,\n",
       "        0.00000000e+000, 2.29178686e-312]])"
      ]
     },
     "execution_count": 13,
     "metadata": {},
     "output_type": "execute_result"
    }
   ],
   "source": [
    "np.empty([3,5])"
   ]
  },
  {
   "cell_type": "markdown",
   "id": "4fc95412-0aa6-4936-b931-0a2d72a580bf",
   "metadata": {},
   "source": [
    "### np.arange(start,end,step,dtype)"
   ]
  },
  {
   "cell_type": "code",
   "execution_count": 19,
   "id": "5daeab68-b7ee-4296-82e8-ed83d51b118a",
   "metadata": {},
   "outputs": [
    {
     "data": {
      "text/plain": [
       "array([0, 1, 2, 3])"
      ]
     },
     "execution_count": 19,
     "metadata": {},
     "output_type": "execute_result"
    }
   ],
   "source": [
    "np.arange(4) #처음에서 끝-1까지"
   ]
  },
  {
   "cell_type": "code",
   "execution_count": 16,
   "id": "90e32542-fda4-4334-9fd2-4d020fde78cd",
   "metadata": {},
   "outputs": [
    {
     "data": {
      "text/plain": [
       "array([ 1,  4,  7, 10, 13, 16, 19, 22, 25, 28, 31, 34])"
      ]
     },
     "execution_count": 16,
     "metadata": {},
     "output_type": "execute_result"
    }
   ],
   "source": [
    "np.arange(1,35,3) #3씩 띄고"
   ]
  },
  {
   "cell_type": "markdown",
   "id": "0baed419-8780-4e2f-8841-aab741cf6680",
   "metadata": {},
   "source": [
    "### np.linspace(start,stop,num)"
   ]
  },
  {
   "cell_type": "code",
   "execution_count": 18,
   "id": "16e9bc9d-a04b-4f16-affd-0ce42e9284be",
   "metadata": {},
   "outputs": [
    {
     "data": {
      "text/plain": [
       "array([ 0.        ,  1.66666667,  3.33333333,  5.        ,  6.66666667,\n",
       "        8.33333333, 10.        ])"
      ]
     },
     "execution_count": 18,
     "metadata": {},
     "output_type": "execute_result"
    }
   ],
   "source": [
    "#선형으로 시작에서 끝까지+ 개수지정\n",
    "np.linspace(0,10,num=7)"
   ]
  },
  {
   "cell_type": "code",
   "execution_count": 20,
   "id": "066456f2-dfeb-48cc-983f-c9ef41eb323b",
   "metadata": {
    "scrolled": true
   },
   "outputs": [
    {
     "data": {
      "text/plain": [
       "array([[1, 1, 1],\n",
       "       [1, 1, 1]], dtype=int64)"
      ]
     },
     "execution_count": 20,
     "metadata": {},
     "output_type": "execute_result"
    }
   ],
   "source": [
    "#배열의 데이터 타입 지정\n",
    "np.ones([2,3],dtype=np.int64)  #각 요소들은 int64형태"
   ]
  },
  {
   "cell_type": "markdown",
   "id": "206df778-3c88-48f9-b4f7-3549ad52f017",
   "metadata": {},
   "source": [
    "### 속도 측정\n",
    "%timeit"
   ]
  },
  {
   "cell_type": "code",
   "execution_count": 21,
   "id": "4974f77a-44a7-4382-bbcd-be546657798b",
   "metadata": {},
   "outputs": [
    {
     "name": "stdout",
     "output_type": "stream",
     "text": [
      "864 ns ± 17.5 ns per loop (mean ± std. dev. of 7 runs, 1,000,000 loops each)\n"
     ]
    }
   ],
   "source": [
    "%timeit np.ones(5) #무수히 많이 실행해서 평균 속도 측정"
   ]
  },
  {
   "cell_type": "markdown",
   "id": "d71f6315-9f57-4f43-bede-40576b645bd8",
   "metadata": {},
   "source": [
    "# 2. 정렬"
   ]
  },
  {
   "cell_type": "markdown",
   "id": "d42dbef9-3fb0-4548-b4c7-b2697d332248",
   "metadata": {},
   "source": [
    "## 정렬\n",
    "np.sort(), np.argsort(), np.lexsort(), np.searchsorted(), np.partition()"
   ]
  },
  {
   "cell_type": "markdown",
   "id": "76993140-7832-42b9-9d71-67e36578f560",
   "metadata": {},
   "source": [
    "## np.sort(axis=-1,kind,order)\n",
    "축, 종류, 순서를 지정하여 정렬"
   ]
  },
  {
   "cell_type": "code",
   "execution_count": 22,
   "id": "c59868f4-d0f2-4790-9748-bf73bca06928",
   "metadata": {},
   "outputs": [],
   "source": [
    "arr=np.array([2,1,5,3,7,4,6,8])"
   ]
  },
  {
   "cell_type": "code",
   "execution_count": 23,
   "id": "c8ce27ac-2a29-4ba4-8f99-94f86d5c4349",
   "metadata": {},
   "outputs": [
    {
     "data": {
      "text/plain": [
       "array([1, 2, 3, 4, 5, 6, 7, 8])"
      ]
     },
     "execution_count": 23,
     "metadata": {},
     "output_type": "execute_result"
    }
   ],
   "source": [
    "np.sort(arr) #기본적으로 작은 수 부터 큰수로"
   ]
  },
  {
   "cell_type": "code",
   "execution_count": 25,
   "id": "1591e5dd-83a8-4c94-a4ec-27bfe0de9204",
   "metadata": {},
   "outputs": [
    {
     "data": {
      "text/plain": [
       "array([8, 7, 6, 5, 4, 3, 2, 1])"
      ]
     },
     "execution_count": 25,
     "metadata": {},
     "output_type": "execute_result"
    }
   ],
   "source": [
    "#역순 정렬(sort함수에 기능 없음)\n",
    "np.sort(arr)[::-1]"
   ]
  },
  {
   "cell_type": "code",
   "execution_count": 30,
   "id": "630af212-7797-477e-a521-54b3948b7940",
   "metadata": {},
   "outputs": [],
   "source": [
    "np.random.seed(1)\n",
    "a=np.random.randint(0,10,12) #0~10까지 중 랜덤하게 12개 가져와 배열로"
   ]
  },
  {
   "cell_type": "code",
   "execution_count": 29,
   "id": "a9b68002-2be3-40ef-aab0-2cf0b0d3eefe",
   "metadata": {},
   "outputs": [
    {
     "data": {
      "text/plain": [
       "array([0, 0, 1, 2, 4, 5, 5, 6, 7, 8, 9, 9])"
      ]
     },
     "execution_count": 29,
     "metadata": {},
     "output_type": "execute_result"
    }
   ],
   "source": [
    "np.sort(a)"
   ]
  },
  {
   "cell_type": "markdown",
   "id": "d843d5a3-f2b4-4d40-b7e2-07e36cd02441",
   "metadata": {},
   "source": [
    "### 2차원 이상 정렬"
   ]
  },
  {
   "cell_type": "code",
   "execution_count": 32,
   "id": "f4c58c3a-4c05-4340-8899-ca23af81098a",
   "metadata": {},
   "outputs": [
    {
     "data": {
      "text/plain": [
       "array([[5, 8, 9, 5],\n",
       "       [0, 0, 1, 7],\n",
       "       [6, 9, 2, 4]])"
      ]
     },
     "execution_count": 32,
     "metadata": {},
     "output_type": "execute_result"
    }
   ],
   "source": [
    "a=a.reshape(3,4) # .reshape([3,4])도 가능\n",
    "a"
   ]
  },
  {
   "cell_type": "code",
   "execution_count": 34,
   "id": "b78b9519-5fbb-4589-92bf-7ac05d29c0e9",
   "metadata": {},
   "outputs": [
    {
     "data": {
      "text/plain": [
       "array([[5, 5, 8, 9],\n",
       "       [0, 0, 1, 7],\n",
       "       [2, 4, 6, 9]])"
      ]
     },
     "execution_count": 34,
     "metadata": {},
     "output_type": "execute_result"
    }
   ],
   "source": [
    "np.sort(a) #기본 axis=-1이어서 행끼리 정렬"
   ]
  },
  {
   "cell_type": "code",
   "execution_count": 35,
   "id": "3a58a49f-302a-4a3e-abda-1e07cb74c2ed",
   "metadata": {},
   "outputs": [
    {
     "data": {
      "text/plain": [
       "array([[2, 4, 6, 9],\n",
       "       [0, 0, 1, 7],\n",
       "       [5, 5, 8, 9]])"
      ]
     },
     "execution_count": 35,
     "metadata": {},
     "output_type": "execute_result"
    }
   ],
   "source": [
    "np.sort(a)[::-1] #역순으로 보려했지만 차원이 안 맞아 제대로 안나옴"
   ]
  },
  {
   "cell_type": "code",
   "execution_count": 36,
   "id": "cd0a96e5-c489-4330-86d1-da9b786cc34f",
   "metadata": {},
   "outputs": [
    {
     "data": {
      "text/plain": [
       "array([[9, 8, 5, 5],\n",
       "       [7, 1, 0, 0],\n",
       "       [9, 6, 4, 2]])"
      ]
     },
     "execution_count": 36,
     "metadata": {},
     "output_type": "execute_result"
    }
   ],
   "source": [
    "np.sort(a)[:,::-1] #행 그대로, 행 안의 열을 기준으로 역순정렬"
   ]
  },
  {
   "cell_type": "code",
   "execution_count": 37,
   "id": "279d8786-8ecd-401b-9c86-75dba78c5e04",
   "metadata": {},
   "outputs": [
    {
     "data": {
      "text/plain": [
       "array([[0, 0, 1, 4],\n",
       "       [5, 8, 2, 5],\n",
       "       [6, 9, 9, 7]])"
      ]
     },
     "execution_count": 37,
     "metadata": {},
     "output_type": "execute_result"
    }
   ],
   "source": [
    "# 열끼리 정렬할때 axis=0\n",
    "np.sort(a,axis=0)"
   ]
  },
  {
   "cell_type": "code",
   "execution_count": 38,
   "id": "a67fd037-da6d-4fb2-b05b-bf59479d3631",
   "metadata": {},
   "outputs": [
    {
     "data": {
      "text/plain": [
       "array([[6, 9, 9, 7],\n",
       "       [5, 8, 2, 5],\n",
       "       [0, 0, 1, 4]])"
      ]
     },
     "execution_count": 38,
     "metadata": {},
     "output_type": "execute_result"
    }
   ],
   "source": [
    "np.sort(a,axis=0)[::-1,:] #역순으로"
   ]
  },
  {
   "cell_type": "markdown",
   "id": "5db79484-940d-4958-8ffd-c05830c9b609",
   "metadata": {},
   "source": [
    "## np.argsort(a,axis=-1,kind,order)\n",
    "지정된 축으로 정렬할 인덱스 순서 반환"
   ]
  },
  {
   "cell_type": "code",
   "execution_count": 39,
   "id": "f1ddea3d-eae5-450a-818c-cfedf1404c2c",
   "metadata": {
    "scrolled": true
   },
   "outputs": [
    {
     "data": {
      "text/plain": [
       "array([[5, 8, 9, 5],\n",
       "       [0, 0, 1, 7],\n",
       "       [6, 9, 2, 4]])"
      ]
     },
     "execution_count": 39,
     "metadata": {},
     "output_type": "execute_result"
    }
   ],
   "source": [
    "np.random.seed(1)\n",
    "a=np.random.randint(0,10,12).reshape(3,4)\n",
    "a"
   ]
  },
  {
   "cell_type": "code",
   "execution_count": 44,
   "id": "5e4685f1-bbce-44a2-b1e7-8fe6bbb473ac",
   "metadata": {},
   "outputs": [
    {
     "data": {
      "text/plain": [
       "array([[5, 8, 9, 5],\n",
       "       [0, 0, 1, 7],\n",
       "       [6, 9, 2, 4]])"
      ]
     },
     "execution_count": 44,
     "metadata": {},
     "output_type": "execute_result"
    }
   ],
   "source": [
    "a"
   ]
  },
  {
   "cell_type": "code",
   "execution_count": 45,
   "id": "112a76ef-2e07-4555-a247-9c2f7a1af2f6",
   "metadata": {},
   "outputs": [
    {
     "data": {
      "text/plain": [
       "array([[0, 3, 1, 2],\n",
       "       [0, 1, 2, 3],\n",
       "       [2, 3, 0, 1]], dtype=int64)"
      ]
     },
     "execution_count": 45,
     "metadata": {},
     "output_type": "execute_result"
    }
   ],
   "source": [
    "np.argsort(a) #정렬 후 원래 인덱스값 반환\n",
    "# 5-8-9-5 원래값\n",
    "# 5-5-8-9 정렬 후\n",
    "# 0-3-1-2 각 값들의 원래 인덱스 값"
   ]
  },
  {
   "cell_type": "code",
   "execution_count": 46,
   "id": "bc43aee5-4f9f-4762-a189-dc212565dbfe",
   "metadata": {},
   "outputs": [
    {
     "data": {
      "text/plain": [
       "array([[2, 1, 3, 0],\n",
       "       [3, 2, 1, 0],\n",
       "       [1, 0, 3, 2]], dtype=int64)"
      ]
     },
     "execution_count": 46,
     "metadata": {},
     "output_type": "execute_result"
    }
   ],
   "source": [
    "np.argsort(a)[:,::-1] #역순으로"
   ]
  },
  {
   "cell_type": "code",
   "execution_count": 47,
   "id": "aa0d1f47-c585-421a-9e87-8d78fa089676",
   "metadata": {},
   "outputs": [
    {
     "data": {
      "text/plain": [
       "array([[1, 1, 1, 2],\n",
       "       [0, 0, 2, 0],\n",
       "       [2, 2, 0, 1]], dtype=int64)"
      ]
     },
     "execution_count": 47,
     "metadata": {},
     "output_type": "execute_result"
    }
   ],
   "source": [
    "# 열끼리 정렬\n",
    "np.argsort(a,axis=0)"
   ]
  },
  {
   "cell_type": "code",
   "execution_count": 48,
   "id": "895d5479-5e02-4210-8806-aea1fb95ddd3",
   "metadata": {},
   "outputs": [
    {
     "data": {
      "text/plain": [
       "array([[2, 2, 0, 1],\n",
       "       [0, 0, 2, 0],\n",
       "       [1, 1, 1, 2]], dtype=int64)"
      ]
     },
     "execution_count": 48,
     "metadata": {},
     "output_type": "execute_result"
    }
   ],
   "source": [
    "np.argsort(a,axis=0)[::-1,:] #역순"
   ]
  },
  {
   "cell_type": "markdown",
   "id": "55d32050-d7f2-460e-90de-d26eda46a258",
   "metadata": {},
   "source": [
    "# 3. 배열 붙이기\n",
    "np.concatenate"
   ]
  },
  {
   "cell_type": "code",
   "execution_count": 52,
   "id": "e9cbb5a5-b69d-4302-a6f6-576e0d7bef78",
   "metadata": {},
   "outputs": [
    {
     "data": {
      "text/plain": [
       "array([1, 2, 3, 4, 5, 6, 7, 8])"
      ]
     },
     "execution_count": 52,
     "metadata": {},
     "output_type": "execute_result"
    }
   ],
   "source": [
    "a=np.array([1,2,3,4])\n",
    "b=np.array([5,6,7,8])\n",
    "np.concatenate((a,b)) #튜플형태나 리스트 형태"
   ]
  },
  {
   "cell_type": "code",
   "execution_count": 51,
   "id": "b18f5dde-8ce7-4394-b3b0-ed6da8731385",
   "metadata": {},
   "outputs": [
    {
     "data": {
      "text/plain": [
       "array([1, 2, 3, 4, 5, 6, 7, 8])"
      ]
     },
     "execution_count": 51,
     "metadata": {},
     "output_type": "execute_result"
    }
   ],
   "source": [
    "np.concatenate([a,b]) #리스트 형태도 가능"
   ]
  },
  {
   "cell_type": "code",
   "execution_count": 53,
   "id": "ae841664-ebee-43d5-b65a-479f93247a5d",
   "metadata": {},
   "outputs": [
    {
     "data": {
      "text/plain": [
       "((2, 2), (1, 2))"
      ]
     },
     "execution_count": 53,
     "metadata": {},
     "output_type": "execute_result"
    }
   ],
   "source": [
    "x=np.array([[1,2],[3,4]])\n",
    "y=np.array([[5,6]])\n",
    "x.shape, y.shape"
   ]
  },
  {
   "cell_type": "code",
   "execution_count": 56,
   "id": "1c023b4b-bb30-40e4-9218-96129301de4d",
   "metadata": {},
   "outputs": [
    {
     "data": {
      "text/plain": [
       "array([[1, 2],\n",
       "       [3, 4],\n",
       "       [5, 6]])"
      ]
     },
     "execution_count": 56,
     "metadata": {},
     "output_type": "execute_result"
    }
   ],
   "source": [
    "np.concatenate([x,y],axis=0) #axis=0은 열의 형태로 밑으로 쌓음"
   ]
  },
  {
   "cell_type": "code",
   "execution_count": 57,
   "id": "3a2dfd0c-36db-49d9-a0cb-7feafe56cb70",
   "metadata": {},
   "outputs": [
    {
     "data": {
      "text/plain": [
       "array([[1, 2, 5, 6],\n",
       "       [3, 4, 7, 8]])"
      ]
     },
     "execution_count": 57,
     "metadata": {},
     "output_type": "execute_result"
    }
   ],
   "source": [
    "z=np.array([[5,6],[7,8]])\n",
    "np.concatenate([x,z],axis=1)  #행을 이어붙여 옆으로 쌓음"
   ]
  },
  {
   "cell_type": "markdown",
   "id": "ce050b9a-2a59-45f6-a51d-b95ecffedac6",
   "metadata": {},
   "source": [
    "# 4.배열 크기 구하기"
   ]
  },
  {
   "cell_type": "code",
   "execution_count": 58,
   "id": "cf12237e-ab00-4023-bdd9-7f88f82cfd73",
   "metadata": {},
   "outputs": [
    {
     "data": {
      "text/plain": [
       "array([[[0, 1, 2, 3],\n",
       "        [4, 5, 6, 7]],\n",
       "\n",
       "       [[0, 1, 2, 3],\n",
       "        [4, 5, 6, 7]],\n",
       "\n",
       "       [[0, 1, 2, 3],\n",
       "        [4, 5, 6, 7]]])"
      ]
     },
     "execution_count": 58,
     "metadata": {},
     "output_type": "execute_result"
    }
   ],
   "source": [
    "arr=np.array([[[0,1,2,3],[4,5,6,7]],\n",
    "             [[0,1,2,3],[4,5,6,7]],\n",
    "             [[0,1,2,3],[4,5,6,7]]])\n",
    "arr"
   ]
  },
  {
   "cell_type": "code",
   "execution_count": 60,
   "id": "3395f4d0-4a3e-4a9b-8b19-24b4764128ef",
   "metadata": {},
   "outputs": [
    {
     "data": {
      "text/plain": [
       "3"
      ]
     },
     "execution_count": 60,
     "metadata": {},
     "output_type": "execute_result"
    }
   ],
   "source": [
    "arr.ndim #차원-앞[[[의 개수->3차원"
   ]
  },
  {
   "cell_type": "code",
   "execution_count": 61,
   "id": "e497e447-8269-4fc6-ad68-6cb2a1f8e87b",
   "metadata": {},
   "outputs": [
    {
     "data": {
      "text/plain": [
       "24"
      ]
     },
     "execution_count": 61,
     "metadata": {},
     "output_type": "execute_result"
    }
   ],
   "source": [
    "arr.size #요소 전체 개수"
   ]
  },
  {
   "cell_type": "markdown",
   "id": "a1f2561a-784c-4275-b8a6-64267cb399d5",
   "metadata": {},
   "source": [
    "# shape\n",
    "(a,b,c,d)->c행 d열 b개가 a개"
   ]
  },
  {
   "cell_type": "code",
   "execution_count": 62,
   "id": "edbbfb0d-ecf2-48d6-8b61-364b87fa335c",
   "metadata": {},
   "outputs": [
    {
     "data": {
      "text/plain": [
       "(3, 2, 4)"
      ]
     },
     "execution_count": 62,
     "metadata": {},
     "output_type": "execute_result"
    }
   ],
   "source": [
    "arr.shape #형태->(3,2,4)->3개의 2행 4열"
   ]
  },
  {
   "cell_type": "markdown",
   "id": "d358786a-cecb-4a3f-beb9-68d24f53070f",
   "metadata": {},
   "source": [
    "## reshape"
   ]
  },
  {
   "cell_type": "code",
   "execution_count": 63,
   "id": "cb768a71-3e66-4ff4-8fbf-3940b6998c2a",
   "metadata": {},
   "outputs": [
    {
     "data": {
      "text/plain": [
       "array([[0, 1, 2],\n",
       "       [3, 4, 5]])"
      ]
     },
     "execution_count": 63,
     "metadata": {},
     "output_type": "execute_result"
    }
   ],
   "source": [
    "a=np.arange(6).reshape(2,3)\n",
    "a"
   ]
  },
  {
   "cell_type": "code",
   "execution_count": 66,
   "id": "f64ef9a3-a52b-42a4-959c-05ac38fea40e",
   "metadata": {},
   "outputs": [
    {
     "data": {
      "text/plain": [
       "array([[0, 1],\n",
       "       [2, 3],\n",
       "       [4, 5]])"
      ]
     },
     "execution_count": 66,
     "metadata": {},
     "output_type": "execute_result"
    }
   ],
   "source": [
    "np.reshape(a,newshape=(3,2),order='c') # order에는 C,F,A가능"
   ]
  },
  {
   "cell_type": "code",
   "execution_count": 5,
   "id": "8eea145c-029d-4e74-9726-06cd1c0ebd46",
   "metadata": {},
   "outputs": [
    {
     "data": {
      "text/plain": [
       "array([[0, 1, 2],\n",
       "       [3, 4, 5]])"
      ]
     },
     "execution_count": 5,
     "metadata": {},
     "output_type": "execute_result"
    }
   ],
   "source": [
    "a=np.arange(6)\n",
    "a.reshape(2,3)"
   ]
  },
  {
   "cell_type": "code",
   "execution_count": 10,
   "id": "aecd1cc4-a9ee-406f-9a5b-42416476541b",
   "metadata": {},
   "outputs": [
    {
     "data": {
      "text/plain": [
       "array([[[ 0,  1,  2,  3],\n",
       "        [ 4,  5,  6,  7],\n",
       "        [ 8,  9, 10, 11]],\n",
       "\n",
       "       [[12, 13, 14, 15],\n",
       "        [16, 17, 18, 19],\n",
       "        [20, 21, 22, 23]]])"
      ]
     },
     "execution_count": 10,
     "metadata": {},
     "output_type": "execute_result"
    }
   ],
   "source": [
    "b=np.arange(24).reshape(2,3,4) #3차원\n",
    "b"
   ]
  },
  {
   "cell_type": "code",
   "execution_count": 16,
   "id": "42a59eba-3e37-405d-b53a-8d7a65124b96",
   "metadata": {},
   "outputs": [
    {
     "data": {
      "text/plain": [
       "6"
      ]
     },
     "execution_count": 16,
     "metadata": {},
     "output_type": "execute_result"
    }
   ],
   "source": [
    "# 인덱싱\n",
    "b[0,1,2] #첫번째 층에 2행 3열"
   ]
  },
  {
   "cell_type": "code",
   "execution_count": 12,
   "id": "d4f87514-89b0-495b-b155-3c776ffb59f2",
   "metadata": {},
   "outputs": [
    {
     "data": {
      "text/plain": [
       "(array([[[[ 0],\n",
       "          [ 1]],\n",
       " \n",
       "         [[ 2],\n",
       "          [ 3]],\n",
       " \n",
       "         [[ 4],\n",
       "          [ 5]]],\n",
       " \n",
       " \n",
       "        [[[ 6],\n",
       "          [ 7]],\n",
       " \n",
       "         [[ 8],\n",
       "          [ 9]],\n",
       " \n",
       "         [[10],\n",
       "          [11]]],\n",
       " \n",
       " \n",
       "        [[[12],\n",
       "          [13]],\n",
       " \n",
       "         [[14],\n",
       "          [15]],\n",
       " \n",
       "         [[16],\n",
       "          [17]]],\n",
       " \n",
       " \n",
       "        [[[18],\n",
       "          [19]],\n",
       " \n",
       "         [[20],\n",
       "          [21]],\n",
       " \n",
       "         [[22],\n",
       "          [23]]]]),\n",
       " (4, 3, 2, 1))"
      ]
     },
     "execution_count": 12,
     "metadata": {},
     "output_type": "execute_result"
    }
   ],
   "source": [
    "c=np.arange(24).reshape(4,3,2,1) #4차원->2행1열 짜리 3개가 4묶음\n",
    "c, c.shape"
   ]
  },
  {
   "cell_type": "markdown",
   "id": "84049246-f4da-4771-b38b-2c42591efcf8",
   "metadata": {},
   "source": [
    "# 5.배열 확장or 축 추가"
   ]
  },
  {
   "cell_type": "markdown",
   "id": "66ddbe86-949b-409c-bbf4-a864ea0e865e",
   "metadata": {},
   "source": [
    "## np.newaxis"
   ]
  },
  {
   "cell_type": "code",
   "execution_count": 6,
   "id": "e4b4640f-8507-4ba8-9165-bd35af1a2b21",
   "metadata": {},
   "outputs": [
    {
     "data": {
      "text/plain": [
       "array([1, 2, 3, 4, 5, 6])"
      ]
     },
     "execution_count": 6,
     "metadata": {},
     "output_type": "execute_result"
    }
   ],
   "source": [
    "a=np.array([1,2,3,4,5,6])\n",
    "a"
   ]
  },
  {
   "cell_type": "code",
   "execution_count": 68,
   "id": "a597bd2b-9315-4c5d-8ebc-a8f47467d3a3",
   "metadata": {},
   "outputs": [
    {
     "data": {
      "text/plain": [
       "(6,)"
      ]
     },
     "execution_count": 68,
     "metadata": {},
     "output_type": "execute_result"
    }
   ],
   "source": [
    "a.shape #1차원"
   ]
  },
  {
   "cell_type": "code",
   "execution_count": 70,
   "id": "2174343c-a8c8-4101-85cf-80deafd55579",
   "metadata": {},
   "outputs": [
    {
     "data": {
      "text/plain": [
       "(array([[1, 2, 3, 4, 5, 6]]), (1, 6))"
      ]
     },
     "execution_count": 70,
     "metadata": {},
     "output_type": "execute_result"
    }
   ],
   "source": [
    "a2=a[np.newaxis,:] #행에 새로운 축, 나머지 6개전부를 열로\n",
    "a2, a2.shape"
   ]
  },
  {
   "cell_type": "code",
   "execution_count": 71,
   "id": "520a2227-0371-4226-9f08-f91b47425466",
   "metadata": {},
   "outputs": [
    {
     "data": {
      "text/plain": [
       "(array([[1],\n",
       "        [2],\n",
       "        [3],\n",
       "        [4],\n",
       "        [5],\n",
       "        [6]]),\n",
       " (6, 1))"
      ]
     },
     "execution_count": 71,
     "metadata": {},
     "output_type": "execute_result"
    }
   ],
   "source": [
    "a3=a[:,np.newaxis] #6개 전부를 행으로, 열에 새로운 축\n",
    "a3, a3.shape"
   ]
  },
  {
   "cell_type": "code",
   "execution_count": 8,
   "id": "f677d96e-0a81-4673-883e-e53d684d12ea",
   "metadata": {
    "scrolled": true
   },
   "outputs": [
    {
     "data": {
      "text/plain": [
       "(array([[[1]],\n",
       " \n",
       "        [[2]],\n",
       " \n",
       "        [[3]],\n",
       " \n",
       "        [[4]],\n",
       " \n",
       "        [[5]],\n",
       " \n",
       "        [[6]]]),\n",
       " (6, 1, 1))"
      ]
     },
     "execution_count": 8,
     "metadata": {},
     "output_type": "execute_result"
    }
   ],
   "source": [
    "a4=a[:,np.newaxis,np.newaxis]\n",
    "a4, a4.shape"
   ]
  },
  {
   "cell_type": "code",
   "execution_count": 9,
   "id": "41a75f3a-b776-4652-870a-4e6bef509554",
   "metadata": {},
   "outputs": [
    {
     "data": {
      "text/plain": [
       "(array([[[1, 2, 3, 4, 5, 6]]]), (1, 1, 6))"
      ]
     },
     "execution_count": 9,
     "metadata": {},
     "output_type": "execute_result"
    }
   ],
   "source": [
    "a5=a[np.newaxis,np.newaxis,:]\n",
    "a5, a5.shape"
   ]
  },
  {
   "cell_type": "code",
   "execution_count": 27,
   "id": "8267a4e5-149a-4028-9590-941e7a3ea44a",
   "metadata": {},
   "outputs": [
    {
     "ename": "AttributeError",
     "evalue": "module 'numpy' has no attribute 'range'",
     "output_type": "error",
     "traceback": [
      "\u001b[1;31m---------------------------------------------------------------------------\u001b[0m",
      "\u001b[1;31mAttributeError\u001b[0m                            Traceback (most recent call last)",
      "Cell \u001b[1;32mIn[27], line 1\u001b[0m\n\u001b[1;32m----> 1\u001b[0m aa\u001b[38;5;241m=\u001b[39mnp\u001b[38;5;241m.\u001b[39mrange(\u001b[38;5;241m6\u001b[39m)\u001b[38;5;241m.\u001b[39mreshape(\u001b[38;5;241m2\u001b[39m,\u001b[38;5;241m3\u001b[39m)\n\u001b[0;32m      2\u001b[0m aa2\u001b[38;5;241m=\u001b[39maa[np\u001b[38;5;241m.\u001b[39mnewaxis,:]\n\u001b[0;32m      3\u001b[0m aa2\n",
      "File \u001b[1;32mC:\\anaconda3\\Lib\\site-packages\\numpy\\__init__.py:333\u001b[0m, in \u001b[0;36m__getattr__\u001b[1;34m(attr)\u001b[0m\n\u001b[0;32m    330\u001b[0m     \u001b[38;5;124m\"\u001b[39m\u001b[38;5;124mRemoved in NumPy 1.25.0\u001b[39m\u001b[38;5;124m\"\u001b[39m\n\u001b[0;32m    331\u001b[0m     \u001b[38;5;28;01mraise\u001b[39;00m \u001b[38;5;167;01mRuntimeError\u001b[39;00m(\u001b[38;5;124m\"\u001b[39m\u001b[38;5;124mTester was removed in NumPy 1.25.\u001b[39m\u001b[38;5;124m\"\u001b[39m)\n\u001b[1;32m--> 333\u001b[0m \u001b[38;5;28;01mraise\u001b[39;00m \u001b[38;5;167;01mAttributeError\u001b[39;00m(\u001b[38;5;124m\"\u001b[39m\u001b[38;5;124mmodule \u001b[39m\u001b[38;5;132;01m{!r}\u001b[39;00m\u001b[38;5;124m has no attribute \u001b[39m\u001b[38;5;124m\"\u001b[39m\n\u001b[0;32m    334\u001b[0m                      \u001b[38;5;124m\"\u001b[39m\u001b[38;5;132;01m{!r}\u001b[39;00m\u001b[38;5;124m\"\u001b[39m\u001b[38;5;241m.\u001b[39mformat(\u001b[38;5;18m__name__\u001b[39m, attr))\n",
      "\u001b[1;31mAttributeError\u001b[0m: module 'numpy' has no attribute 'range'"
     ]
    }
   ],
   "source": [
    "aa=np.range(6).reshape(2,3)\n",
    "aa2=aa[np.newaxis,:]   #이렇게 하면 에러\n",
    "aa2"
   ]
  },
  {
   "cell_type": "markdown",
   "id": "60b35ec6-26f9-4a6c-ae3f-2b215ff6101a",
   "metadata": {},
   "source": [
    "## np.expand_dims()"
   ]
  },
  {
   "cell_type": "code",
   "execution_count": 18,
   "id": "64c9e5b8-6a0b-4472-972d-8759ae7e3a15",
   "metadata": {},
   "outputs": [
    {
     "data": {
      "text/plain": [
       "(array([1, 2, 3, 4, 5, 6]), 1, (6,))"
      ]
     },
     "execution_count": 18,
     "metadata": {},
     "output_type": "execute_result"
    }
   ],
   "source": [
    "a=np.array([1,2,3,4,5,6])\n",
    "a, a.ndim, a.shape"
   ]
  },
  {
   "cell_type": "code",
   "execution_count": 19,
   "id": "e36429c1-7267-4cae-8dcd-73b7e5b3be49",
   "metadata": {},
   "outputs": [
    {
     "data": {
      "text/plain": [
       "(array([[1],\n",
       "        [2],\n",
       "        [3],\n",
       "        [4],\n",
       "        [5],\n",
       "        [6]]),\n",
       " (6, 1))"
      ]
     },
     "execution_count": 19,
     "metadata": {},
     "output_type": "execute_result"
    }
   ],
   "source": [
    "b=np.expand_dims(a,axis=1) #열로\n",
    "b, b.shape"
   ]
  },
  {
   "cell_type": "code",
   "execution_count": 20,
   "id": "4da8da27-0d92-4e4f-8bab-60d835d8c5fc",
   "metadata": {},
   "outputs": [
    {
     "data": {
      "text/plain": [
       "(array([[1, 2, 3, 4, 5, 6]]), (1, 6))"
      ]
     },
     "execution_count": 20,
     "metadata": {},
     "output_type": "execute_result"
    }
   ],
   "source": [
    "b=np.expand_dims(a,axis=0) #행으로\n",
    "b, b.shape"
   ]
  },
  {
   "cell_type": "code",
   "execution_count": 28,
   "id": "479b59f1-d24e-411a-978e-022c43325d8c",
   "metadata": {},
   "outputs": [
    {
     "data": {
      "text/plain": [
       "(array([[0, 1, 2],\n",
       "        [3, 4, 5]]),\n",
       " array([[[0],\n",
       "         [1],\n",
       "         [2]],\n",
       " \n",
       "        [[3],\n",
       "         [4],\n",
       "         [5]]]),\n",
       " (2, 3, 1),\n",
       " 3)"
      ]
     },
     "execution_count": 28,
     "metadata": {},
     "output_type": "execute_result"
    }
   ],
   "source": [
    "a=np.arange(6).reshape(2,3)\n",
    "b=np.expand_dims(a,axis=2)  #2차원에서 axis=0,1,2 3개 가능->3차원으로\n",
    "a,b,b.shape, b.ndim"
   ]
  }
 ],
 "metadata": {
  "kernelspec": {
   "display_name": "Python 3 (ipykernel)",
   "language": "python",
   "name": "python3"
  },
  "language_info": {
   "codemirror_mode": {
    "name": "ipython",
    "version": 3
   },
   "file_extension": ".py",
   "mimetype": "text/x-python",
   "name": "python",
   "nbconvert_exporter": "python",
   "pygments_lexer": "ipython3",
   "version": "3.12.7"
  }
 },
 "nbformat": 4,
 "nbformat_minor": 5
}

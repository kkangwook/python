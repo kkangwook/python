{
 "cells": [
  {
   "cell_type": "markdown",
   "id": "e71a2ba4-8c6c-4a70-9bc9-28bdfe87e69c",
   "metadata": {},
   "source": [
    "# 1.인덱싱과 슬라이싱"
   ]
  },
  {
   "cell_type": "markdown",
   "id": "cadef428-5fb5-4f2d-8909-56ac83aa555c",
   "metadata": {},
   "source": [
    "## 1차원 인덱싱\n",
    "[]"
   ]
  },
  {
   "cell_type": "code",
   "execution_count": 1,
   "id": "ba041ade-3206-4820-9e1f-e4fee7bc177c",
   "metadata": {},
   "outputs": [],
   "source": [
    "import numpy as np"
   ]
  },
  {
   "cell_type": "code",
   "execution_count": 2,
   "id": "89342739-0a12-4622-8ea1-deb9a4b3861c",
   "metadata": {},
   "outputs": [
    {
     "data": {
      "text/plain": [
       "array([1, 2, 3])"
      ]
     },
     "execution_count": 2,
     "metadata": {},
     "output_type": "execute_result"
    }
   ],
   "source": [
    "data=np.array([1,2,3])\n",
    "data"
   ]
  },
  {
   "cell_type": "code",
   "execution_count": 3,
   "id": "c53a62a6-2bce-47ae-916b-8492694e6f87",
   "metadata": {},
   "outputs": [
    {
     "data": {
      "text/plain": [
       "1"
      ]
     },
     "execution_count": 3,
     "metadata": {},
     "output_type": "execute_result"
    }
   ],
   "source": [
    "data[0]"
   ]
  },
  {
   "cell_type": "code",
   "execution_count": 4,
   "id": "fccbdf59-ae8a-46a6-8643-898f35c828ab",
   "metadata": {},
   "outputs": [
    {
     "data": {
      "text/plain": [
       "3"
      ]
     },
     "execution_count": 4,
     "metadata": {},
     "output_type": "execute_result"
    }
   ],
   "source": [
    "data[2]"
   ]
  },
  {
   "cell_type": "code",
   "execution_count": 5,
   "id": "cc0aae26-284e-47f8-a1c4-83f715bfbbce",
   "metadata": {},
   "outputs": [
    {
     "data": {
      "text/plain": [
       "array([1, 2])"
      ]
     },
     "execution_count": 5,
     "metadata": {},
     "output_type": "execute_result"
    }
   ],
   "source": [
    "data[:2]"
   ]
  },
  {
   "cell_type": "code",
   "execution_count": 8,
   "id": "de46ea86-14ff-4578-9afa-cc6ce6a05b96",
   "metadata": {},
   "outputs": [
    {
     "data": {
      "text/plain": [
       "3"
      ]
     },
     "execution_count": 8,
     "metadata": {},
     "output_type": "execute_result"
    }
   ],
   "source": [
    "data[-1] #뒤에서부터"
   ]
  },
  {
   "cell_type": "code",
   "execution_count": 10,
   "id": "9e5b30b3-2934-4071-abf9-011f6d822918",
   "metadata": {},
   "outputs": [
    {
     "data": {
      "text/plain": [
       "array([2, 3])"
      ]
     },
     "execution_count": 10,
     "metadata": {},
     "output_type": "execute_result"
    }
   ],
   "source": [
    "data[-2:] # -2에서부터 끝까지"
   ]
  },
  {
   "cell_type": "code",
   "execution_count": 12,
   "id": "45dc2cef-efe4-4af3-8f38-b113b8daf1e1",
   "metadata": {},
   "outputs": [
    {
     "data": {
      "text/plain": [
       "array([1, 2, 3])"
      ]
     },
     "execution_count": 12,
     "metadata": {},
     "output_type": "execute_result"
    }
   ],
   "source": [
    "data[-3:]"
   ]
  },
  {
   "cell_type": "markdown",
   "id": "4e6a5ca6-cb2a-49e3-81bf-d409ada5aed7",
   "metadata": {},
   "source": [
    "## 2차원 인덱싱\n",
    "[ , ] or [][]"
   ]
  },
  {
   "cell_type": "code",
   "execution_count": 13,
   "id": "6cefc03b-1fec-4fc3-9969-1f2dca86f02f",
   "metadata": {},
   "outputs": [
    {
     "data": {
      "text/plain": [
       "array([[ 0,  1,  2,  3,  4],\n",
       "       [ 5,  6,  7,  8,  9],\n",
       "       [10, 11, 12, 13, 14],\n",
       "       [15, 16, 17, 18, 19],\n",
       "       [20, 21, 22, 23, 24]])"
      ]
     },
     "execution_count": 13,
     "metadata": {},
     "output_type": "execute_result"
    }
   ],
   "source": [
    "data=np.arange(25).reshape(5,5)\n",
    "data"
   ]
  },
  {
   "cell_type": "code",
   "execution_count": 31,
   "id": "8e450987-7be8-4e67-b3a2-277c9fc744d6",
   "metadata": {},
   "outputs": [
    {
     "data": {
      "text/plain": [
       "11"
      ]
     },
     "execution_count": 31,
     "metadata": {},
     "output_type": "execute_result"
    }
   ],
   "source": [
    "data[2][1] #3행의 두번째 열"
   ]
  },
  {
   "cell_type": "code",
   "execution_count": 14,
   "id": "e49ee051-5d71-47af-988f-7ca97743ef12",
   "metadata": {},
   "outputs": [
    {
     "data": {
      "text/plain": [
       "array([3, 4])"
      ]
     },
     "execution_count": 14,
     "metadata": {},
     "output_type": "execute_result"
    }
   ],
   "source": [
    "data[0,3:5] #0행의 3~(5-1)열"
   ]
  },
  {
   "cell_type": "code",
   "execution_count": 15,
   "id": "c457b2ff-5ac0-40fd-b6f5-677845fdd77f",
   "metadata": {},
   "outputs": [
    {
     "data": {
      "text/plain": [
       "array([ 2,  7, 12, 17, 22])"
      ]
     },
     "execution_count": 15,
     "metadata": {},
     "output_type": "execute_result"
    }
   ],
   "source": [
    "data[:,2]"
   ]
  },
  {
   "cell_type": "code",
   "execution_count": 17,
   "id": "beab73e0-93d7-4c63-b7f3-a680c7790c45",
   "metadata": {},
   "outputs": [
    {
     "data": {
      "text/plain": [
       "array([[18, 19],\n",
       "       [23, 24]])"
      ]
     },
     "execution_count": 17,
     "metadata": {},
     "output_type": "execute_result"
    }
   ],
   "source": [
    "data[3:,3:]"
   ]
  },
  {
   "cell_type": "code",
   "execution_count": 19,
   "id": "bf9f3cc6-1123-4582-9e87-9216a50409fa",
   "metadata": {},
   "outputs": [
    {
     "data": {
      "text/plain": [
       "array([[10, 12, 14],\n",
       "       [20, 22, 24]])"
      ]
     },
     "execution_count": 19,
     "metadata": {},
     "output_type": "execute_result"
    }
   ],
   "source": [
    "data[2::2,::2] #2간격으로"
   ]
  },
  {
   "cell_type": "code",
   "execution_count": 26,
   "id": "4377a52c-c7d5-4890-9139-e0b71ca8674e",
   "metadata": {},
   "outputs": [
    {
     "data": {
      "text/plain": [
       "array([ 0,  6, 12])"
      ]
     },
     "execution_count": 26,
     "metadata": {},
     "output_type": "execute_result"
    }
   ],
   "source": [
    "data[[0,1,2],[0,1,2]] #각 각 하나씩"
   ]
  },
  {
   "cell_type": "code",
   "execution_count": 23,
   "id": "0ed64ecd-5093-4f07-983e-1dbe1e27255d",
   "metadata": {},
   "outputs": [
    {
     "data": {
      "text/plain": [
       "array([ 0,  6, 12])"
      ]
     },
     "execution_count": 23,
     "metadata": {},
     "output_type": "execute_result"
    }
   ],
   "source": [
    "data[(0,1,2),(0,1,2)] #튜플로도 가능"
   ]
  },
  {
   "cell_type": "code",
   "execution_count": 38,
   "id": "15cbd61a-5c1c-46c1-86ca-49e2d092dd68",
   "metadata": {},
   "outputs": [
    {
     "data": {
      "text/plain": [
       "array([ 2,  7, 12])"
      ]
     },
     "execution_count": 38,
     "metadata": {},
     "output_type": "execute_result"
    }
   ],
   "source": [
    "data[[0,1,2],[2]] #크기 달라도 하나가 1개면 그 줄을 가져옴"
   ]
  },
  {
   "cell_type": "code",
   "execution_count": 39,
   "id": "c1bd6be9-a11e-4ca4-8f81-163d114c6ad6",
   "metadata": {},
   "outputs": [
    {
     "ename": "IndexError",
     "evalue": "shape mismatch: indexing arrays could not be broadcast together with shapes (3,) (2,) ",
     "output_type": "error",
     "traceback": [
      "\u001b[1;31m---------------------------------------------------------------------------\u001b[0m",
      "\u001b[1;31mIndexError\u001b[0m                                Traceback (most recent call last)",
      "Cell \u001b[1;32mIn[39], line 1\u001b[0m\n\u001b[1;32m----> 1\u001b[0m data[[\u001b[38;5;241m0\u001b[39m,\u001b[38;5;241m1\u001b[39m,\u001b[38;5;241m2\u001b[39m],[\u001b[38;5;241m2\u001b[39m,\u001b[38;5;241m3\u001b[39m]]\n",
      "\u001b[1;31mIndexError\u001b[0m: shape mismatch: indexing arrays could not be broadcast together with shapes (3,) (2,) "
     ]
    }
   ],
   "source": [
    "data[[0,1,2],[2,3]] #이렇게 하면 error->각 각 크기가 안맞아서->2:4로 해줘야함"
   ]
  },
  {
   "cell_type": "code",
   "execution_count": 27,
   "id": "44c50d38-8383-4185-b05e-a0786d040231",
   "metadata": {},
   "outputs": [
    {
     "data": {
      "text/plain": [
       "array([[ 0,  1,  2],\n",
       "       [ 5,  6,  7],\n",
       "       [10, 11, 12]])"
      ]
     },
     "execution_count": 27,
     "metadata": {},
     "output_type": "execute_result"
    }
   ],
   "source": [
    "# :로 하면 전부 가져옴\n",
    "data[:3,[0,1,2]] "
   ]
  },
  {
   "cell_type": "code",
   "execution_count": 29,
   "id": "2177772a-cbd8-4f2f-a0d8-2b8e3cdabf26",
   "metadata": {},
   "outputs": [
    {
     "data": {
      "text/plain": [
       "array([[ 0,  1,  2],\n",
       "       [ 5,  6,  7],\n",
       "       [10, 11, 12]])"
      ]
     },
     "execution_count": 29,
     "metadata": {},
     "output_type": "execute_result"
    }
   ],
   "source": [
    "data[[0,1,2],:3] #마찬가지"
   ]
  },
  {
   "cell_type": "code",
   "execution_count": 41,
   "id": "6a154b96-63a6-4045-b905-8fae0f653763",
   "metadata": {},
   "outputs": [
    {
     "data": {
      "text/plain": [
       "array([ 2, 12])"
      ]
     },
     "execution_count": 41,
     "metadata": {},
     "output_type": "execute_result"
    }
   ],
   "source": [
    "# T, F이용\n",
    "mask=np.array([1,0,1,0,0],dtype=bool) #1이면 T, 0이면 F \n",
    "data[mask,2]"
   ]
  },
  {
   "cell_type": "markdown",
   "id": "61d5146e-9695-43aa-a092-ba091a2f57c7",
   "metadata": {},
   "source": [
    "## 조건에 따른 인덱싱"
   ]
  },
  {
   "cell_type": "code",
   "execution_count": 42,
   "id": "2a2da873-0111-4997-aa78-783061768344",
   "metadata": {},
   "outputs": [
    {
     "data": {
      "text/plain": [
       "array([[ 1,  2,  3,  4],\n",
       "       [ 5,  6,  7,  8],\n",
       "       [ 9, 10, 11, 12]])"
      ]
     },
     "execution_count": 42,
     "metadata": {},
     "output_type": "execute_result"
    }
   ],
   "source": [
    "a = np.array([[1 , 2, 3, 4], [5, 6, 7, 8], [9, 10, 11, 12]])\n",
    "a"
   ]
  },
  {
   "cell_type": "code",
   "execution_count": 43,
   "id": "93477d84-780d-482d-9ba8-30450e294c05",
   "metadata": {},
   "outputs": [
    {
     "data": {
      "text/plain": [
       "array([[ True,  True,  True,  True],\n",
       "       [False, False, False, False],\n",
       "       [False, False, False, False]])"
      ]
     },
     "execution_count": 43,
     "metadata": {},
     "output_type": "execute_result"
    }
   ],
   "source": [
    "a<5"
   ]
  },
  {
   "cell_type": "code",
   "execution_count": 44,
   "id": "3c1d3eda-1c82-4778-901b-0d78a398a40f",
   "metadata": {},
   "outputs": [
    {
     "data": {
      "text/plain": [
       "array([1, 2, 3, 4])"
      ]
     },
     "execution_count": 44,
     "metadata": {},
     "output_type": "execute_result"
    }
   ],
   "source": [
    "a[a<5]"
   ]
  },
  {
   "cell_type": "code",
   "execution_count": 45,
   "id": "c16ad2b8-4e14-435d-ba97-a199f58f77d9",
   "metadata": {},
   "outputs": [
    {
     "data": {
      "text/plain": [
       "array([ 2,  4,  6,  8, 10, 12])"
      ]
     },
     "execution_count": 45,
     "metadata": {},
     "output_type": "execute_result"
    }
   ],
   "source": [
    "a[a%2==0]"
   ]
  },
  {
   "cell_type": "code",
   "execution_count": 47,
   "id": "e492b777-6749-45f0-8736-f747976c31fe",
   "metadata": {},
   "outputs": [
    {
     "data": {
      "text/plain": [
       "array([ 3,  4,  5,  6,  7,  8,  9, 10])"
      ]
     },
     "execution_count": 47,
     "metadata": {},
     "output_type": "execute_result"
    }
   ],
   "source": [
    "a[(a>2)&(a<11)] #()하고 &=and"
   ]
  },
  {
   "cell_type": "code",
   "execution_count": 48,
   "id": "c9770ab1-b73b-489d-9c66-636505730320",
   "metadata": {},
   "outputs": [
    {
     "data": {
      "text/plain": [
       "array([ 5,  6,  7,  8,  9, 10, 11, 12])"
      ]
     },
     "execution_count": 48,
     "metadata": {},
     "output_type": "execute_result"
    }
   ],
   "source": [
    "a[(a>5)|(a==5)] # |는 or"
   ]
  },
  {
   "cell_type": "code",
   "execution_count": 53,
   "id": "26669600-b9ed-479c-a451-09869b75fe7d",
   "metadata": {},
   "outputs": [
    {
     "data": {
      "text/plain": [
       "array([[ 7,  8],\n",
       "       [11, 12]])"
      ]
     },
     "execution_count": 53,
     "metadata": {},
     "output_type": "execute_result"
    }
   ],
   "source": [
    "a[a[:,0]>4,2:4] #1열 중 4보다 큰값이 있는 행에서 2,3열 가져오기"
   ]
  },
  {
   "cell_type": "code",
   "execution_count": 55,
   "id": "39ccd230-dc00-4208-baf2-4cad09d51d9b",
   "metadata": {},
   "outputs": [
    {
     "ename": "IndexError",
     "evalue": "shape mismatch: indexing arrays could not be broadcast together with shapes (2,) (3,) ",
     "output_type": "error",
     "traceback": [
      "\u001b[1;31m---------------------------------------------------------------------------\u001b[0m",
      "\u001b[1;31mIndexError\u001b[0m                                Traceback (most recent call last)",
      "Cell \u001b[1;32mIn[55], line 1\u001b[0m\n\u001b[1;32m----> 1\u001b[0m a[a[:,\u001b[38;5;241m0\u001b[39m]\u001b[38;5;241m>\u001b[39m\u001b[38;5;241m4\u001b[39m,[\u001b[38;5;241m0\u001b[39m,\u001b[38;5;241m1\u001b[39m,\u001b[38;5;241m2\u001b[39m]]\n",
      "\u001b[1;31mIndexError\u001b[0m: shape mismatch: indexing arrays could not be broadcast together with shapes (2,) (3,) "
     ]
    }
   ],
   "source": [
    "a[a[:,0]>4,[0,1,2]] #이렇게 하면 error->:3으로"
   ]
  },
  {
   "cell_type": "markdown",
   "id": "dd0dde4e-0103-435d-a6f4-b2446a961b48",
   "metadata": {},
   "source": [
    "### np.nonzero()\n",
    "조건에 해당되는 인덱스값 반환"
   ]
  },
  {
   "cell_type": "code",
   "execution_count": 56,
   "id": "47e682f3-1b20-4e26-8e3f-625d8cc471c2",
   "metadata": {},
   "outputs": [
    {
     "data": {
      "text/plain": [
       "array([[ 1,  2,  3,  4],\n",
       "       [ 5,  6,  7,  8],\n",
       "       [ 9, 10, 11, 12]])"
      ]
     },
     "execution_count": 56,
     "metadata": {},
     "output_type": "execute_result"
    }
   ],
   "source": [
    "a = np.array([[1 , 2, 3, 4], [5, 6, 7, 8], [9, 10, 11, 12]])\n",
    "a"
   ]
  },
  {
   "cell_type": "code",
   "execution_count": 60,
   "id": "4eb86e6e-887d-4e15-9de4-c06165538b41",
   "metadata": {},
   "outputs": [
    {
     "data": {
      "text/plain": [
       "(array([0, 0, 0, 0], dtype=int64), array([0, 1, 2, 3], dtype=int64))"
      ]
     },
     "execution_count": 60,
     "metadata": {},
     "output_type": "execute_result"
    }
   ],
   "source": [
    "b=np.nonzero(a<5)\n",
    "b #각 0행에 따른 0,1,2,3열 ->총 4개 요소가 a<5를 만족하고 각 인덱스를 반환"
   ]
  },
  {
   "cell_type": "code",
   "execution_count": 61,
   "id": "1e281c9c-b4dc-4cfc-ac20-0deb04c42948",
   "metadata": {},
   "outputs": [
    {
     "data": {
      "text/plain": [
       "[(0, 0), (0, 1), (0, 2), (0, 3)]"
      ]
     },
     "execution_count": 61,
     "metadata": {},
     "output_type": "execute_result"
    }
   ],
   "source": [
    "#위에꺼를 표현할때\n",
    "lists=list(zip(b[0],b[1]))\n",
    "lists"
   ]
  },
  {
   "cell_type": "code",
   "execution_count": 62,
   "id": "06d17026-8c82-4c4f-8e03-6ac9613e5b81",
   "metadata": {},
   "outputs": [
    {
     "data": {
      "text/plain": [
       "array([1, 2, 3, 4])"
      ]
     },
     "execution_count": 62,
     "metadata": {},
     "output_type": "execute_result"
    }
   ],
   "source": [
    "a[b]"
   ]
  },
  {
   "cell_type": "markdown",
   "id": "bee4c5bf-9c2d-4c19-a1a9-811578a3d476",
   "metadata": {},
   "source": [
    "# 2.기존 데이터를 사용한 배열 생성"
   ]
  },
  {
   "cell_type": "markdown",
   "id": "e8ace772-729f-4c19-a88c-a5abaeaaa80d",
   "metadata": {},
   "source": [
    "## np.vstack() 밑으로 붙이기"
   ]
  },
  {
   "cell_type": "code",
   "execution_count": 63,
   "id": "68b2b4b2-fb76-45d6-b181-4a8c868175cc",
   "metadata": {},
   "outputs": [],
   "source": [
    "a1 = np.array([[1, 1],\n",
    "               [2, 2]])\n",
    "\n",
    "a2 = np.array([[3, 3],\n",
    "               [4, 4]])"
   ]
  },
  {
   "cell_type": "code",
   "execution_count": 64,
   "id": "87b548ca-17b7-4b13-8a2a-2e6e37828710",
   "metadata": {},
   "outputs": [
    {
     "data": {
      "text/plain": [
       "array([[1, 1],\n",
       "       [2, 2],\n",
       "       [3, 3],\n",
       "       [4, 4]])"
      ]
     },
     "execution_count": 64,
     "metadata": {},
     "output_type": "execute_result"
    }
   ],
   "source": [
    "np.vstack([a1,a2])"
   ]
  },
  {
   "cell_type": "markdown",
   "id": "15db4c5d-caff-420d-b74f-480f63cf1ebc",
   "metadata": {},
   "source": [
    "## np.hstack() 옆으로 붙이기"
   ]
  },
  {
   "cell_type": "code",
   "execution_count": 65,
   "id": "c4e3f32a-3287-491e-8fab-1fedcf041ede",
   "metadata": {
    "scrolled": true
   },
   "outputs": [
    {
     "data": {
      "text/plain": [
       "array([[1, 1, 3, 3],\n",
       "       [2, 2, 4, 4]])"
      ]
     },
     "execution_count": 65,
     "metadata": {},
     "output_type": "execute_result"
    }
   ],
   "source": [
    "np.hstack([a1,a2])"
   ]
  },
  {
   "cell_type": "markdown",
   "id": "eb7b094e-957b-4814-833b-6e22c2049d4f",
   "metadata": {},
   "source": [
    "## np.hsplit() 만들어진 배열 쪼개기"
   ]
  },
  {
   "cell_type": "code",
   "execution_count": 67,
   "id": "4abb80c7-c088-455d-9522-ed2f41aaae3e",
   "metadata": {},
   "outputs": [
    {
     "data": {
      "text/plain": [
       "array([[ 1,  2,  3,  4,  5,  6,  7,  8,  9, 10, 11, 12],\n",
       "       [13, 14, 15, 16, 17, 18, 19, 20, 21, 22, 23, 24]])"
      ]
     },
     "execution_count": 67,
     "metadata": {},
     "output_type": "execute_result"
    }
   ],
   "source": [
    "x = np.arange(1, 25).reshape(2, 12)\n",
    "x"
   ]
  },
  {
   "cell_type": "code",
   "execution_count": 69,
   "id": "5db8db1c-0478-4b5a-9eb6-2b54e95e2926",
   "metadata": {},
   "outputs": [
    {
     "data": {
      "text/plain": [
       "[array([[ 1,  2,  3,  4],\n",
       "        [13, 14, 15, 16]]),\n",
       " array([[ 5,  6,  7,  8],\n",
       "        [17, 18, 19, 20]]),\n",
       " array([[ 9, 10, 11, 12],\n",
       "        [21, 22, 23, 24]])]"
      ]
     },
     "execution_count": 69,
     "metadata": {},
     "output_type": "execute_result"
    }
   ],
   "source": [
    "np.hsplit(x,3) #옆으로 3개 만듬"
   ]
  },
  {
   "cell_type": "code",
   "execution_count": 71,
   "id": "d10b2395-eaa7-4bf1-bb49-6c803edaf5b7",
   "metadata": {},
   "outputs": [
    {
     "data": {
      "text/plain": [
       "[array([[ 1,  2],\n",
       "        [13, 14]]),\n",
       " array([[ 3,  4],\n",
       "        [15, 16]]),\n",
       " array([[ 5,  6],\n",
       "        [17, 18]]),\n",
       " array([[ 7,  8,  9, 10, 11, 12],\n",
       "        [19, 20, 21, 22, 23, 24]])]"
      ]
     },
     "execution_count": 71,
     "metadata": {},
     "output_type": "execute_result"
    }
   ],
   "source": [
    "np.hsplit(x,(2,4,6)) #튜플로 하면 2번 인덱스에서 끊고 4번 인덱스에서 끊고 6번 인덱스에서 끊음"
   ]
  },
  {
   "cell_type": "code",
   "execution_count": 72,
   "id": "bf569635-2eaf-4ca0-a62b-e89895bbdd5b",
   "metadata": {},
   "outputs": [
    {
     "data": {
      "text/plain": [
       "[array([[ 1],\n",
       "        [13]]),\n",
       " array([[ 2,  3,  4],\n",
       "        [14, 15, 16]]),\n",
       " array([[ 5,  6,  7],\n",
       "        [17, 18, 19]]),\n",
       " array([[ 8,  9],\n",
       "        [20, 21]]),\n",
       " array([[10],\n",
       "        [22]]),\n",
       " array([[11, 12],\n",
       "        [23, 24]])]"
      ]
     },
     "execution_count": 72,
     "metadata": {},
     "output_type": "execute_result"
    }
   ],
   "source": [
    "np.hsplit(x,(1,4,7,9,10))"
   ]
  },
  {
   "cell_type": "markdown",
   "id": "459e3ea9-6cf2-4c44-aacb-eade730054d6",
   "metadata": {},
   "source": [
    "## np.vsplit()"
   ]
  },
  {
   "cell_type": "code",
   "execution_count": 74,
   "id": "da3cc58c-c35a-40df-899e-2e10d4c265eb",
   "metadata": {},
   "outputs": [
    {
     "data": {
      "text/plain": [
       "array([[ 1,  2],\n",
       "       [ 3,  4],\n",
       "       [ 5,  6],\n",
       "       [ 7,  8],\n",
       "       [ 9, 10],\n",
       "       [11, 12],\n",
       "       [13, 14],\n",
       "       [15, 16],\n",
       "       [17, 18],\n",
       "       [19, 20],\n",
       "       [21, 22],\n",
       "       [23, 24]])"
      ]
     },
     "execution_count": 74,
     "metadata": {},
     "output_type": "execute_result"
    }
   ],
   "source": [
    "x=x.reshape(12,2)\n",
    "x"
   ]
  },
  {
   "cell_type": "code",
   "execution_count": 76,
   "id": "789bebe6-89e5-41d0-822c-eb4f555658b0",
   "metadata": {},
   "outputs": [
    {
     "data": {
      "text/plain": [
       "[array([[1, 2],\n",
       "        [3, 4],\n",
       "        [5, 6],\n",
       "        [7, 8]]),\n",
       " array([[ 9, 10],\n",
       "        [11, 12],\n",
       "        [13, 14],\n",
       "        [15, 16]]),\n",
       " array([[17, 18],\n",
       "        [19, 20],\n",
       "        [21, 22],\n",
       "        [23, 24]])]"
      ]
     },
     "execution_count": 76,
     "metadata": {},
     "output_type": "execute_result"
    }
   ],
   "source": [
    "np.vsplit(x,3) #밑에 방향으로 3개 나눠지게끔"
   ]
  },
  {
   "cell_type": "code",
   "execution_count": 78,
   "id": "cab0ed40-feec-454e-abb8-197d5969bff7",
   "metadata": {},
   "outputs": [
    {
     "data": {
      "text/plain": [
       "[array([[1, 2],\n",
       "        [3, 4],\n",
       "        [5, 6]]),\n",
       " array([[ 7,  8],\n",
       "        [ 9, 10]]),\n",
       " array([[11, 12],\n",
       "        [13, 14]]),\n",
       " array([[15, 16],\n",
       "        [17, 18]]),\n",
       " array([[19, 20],\n",
       "        [21, 22],\n",
       "        [23, 24]])]"
      ]
     },
     "execution_count": 78,
     "metadata": {},
     "output_type": "execute_result"
    }
   ],
   "source": [
    "np.vsplit(x,(3,5,7,9)) #각 인덱스에서 끊어줌"
   ]
  },
  {
   "cell_type": "markdown",
   "id": "0582f019-6fb6-4e36-b472-fde01fe30d35",
   "metadata": {},
   "source": [
    "## 배열에서 복사의 신기한 특징->얕은 복사"
   ]
  },
  {
   "cell_type": "code",
   "execution_count": 80,
   "id": "28ade490-0906-4b9a-881f-0f3041296b3a",
   "metadata": {},
   "outputs": [],
   "source": [
    "a = np.array([[1, 2, 3, 4], [5, 6, 7, 8], [9, 10, 11, 12]])"
   ]
  },
  {
   "cell_type": "code",
   "execution_count": 85,
   "id": "f8482be2-4594-4bfb-a099-1f5f2f3e5c2a",
   "metadata": {},
   "outputs": [
    {
     "data": {
      "text/plain": [
       "array([99,  2,  3,  4])"
      ]
     },
     "execution_count": 85,
     "metadata": {},
     "output_type": "execute_result"
    }
   ],
   "source": [
    "b=a[0,:] #b를 a로 부터 만듬 by 얕은 복사\n",
    "b"
   ]
  },
  {
   "cell_type": "code",
   "execution_count": 83,
   "id": "e0ecb850-a72b-4a28-a23e-60f2b8d3ff8f",
   "metadata": {},
   "outputs": [
    {
     "data": {
      "text/plain": [
       "array([99,  2,  3,  4])"
      ]
     },
     "execution_count": 83,
     "metadata": {},
     "output_type": "execute_result"
    }
   ],
   "source": [
    "b[0]=99\n",
    "b"
   ]
  },
  {
   "cell_type": "code",
   "execution_count": 84,
   "id": "083e1951-aa63-4a32-bc97-9e6c93310c40",
   "metadata": {},
   "outputs": [
    {
     "data": {
      "text/plain": [
       "array([[99,  2,  3,  4],\n",
       "       [ 5,  6,  7,  8],\n",
       "       [ 9, 10, 11, 12]])"
      ]
     },
     "execution_count": 84,
     "metadata": {},
     "output_type": "execute_result"
    }
   ],
   "source": [
    "a #b에서 바꾼게 a에도 적용"
   ]
  },
  {
   "cell_type": "code",
   "execution_count": 86,
   "id": "21497f56-2f43-4fd7-8980-653807e3df7e",
   "metadata": {},
   "outputs": [
    {
     "data": {
      "text/plain": [
       "array([1, 2, 3, 4])"
      ]
     },
     "execution_count": 86,
     "metadata": {},
     "output_type": "execute_result"
    }
   ],
   "source": [
    "#이를 방지하고자 .copy() 함수 사용->깊은 복사\n",
    "a = np.array([[1, 2, 3, 4], [5, 6, 7, 8], [9, 10, 11, 12]])\n",
    "b2=a[0,:].copy()\n",
    "b2"
   ]
  },
  {
   "cell_type": "code",
   "execution_count": 87,
   "id": "a4c2d57c-bbb8-4667-b432-773c23cb8d98",
   "metadata": {},
   "outputs": [
    {
     "data": {
      "text/plain": [
       "array([99,  2,  3,  4])"
      ]
     },
     "execution_count": 87,
     "metadata": {},
     "output_type": "execute_result"
    }
   ],
   "source": [
    "b2[0]=99\n",
    "b2"
   ]
  },
  {
   "cell_type": "code",
   "execution_count": 88,
   "id": "9da9c2bc-90b9-4fee-bf02-18b44ca605bb",
   "metadata": {
    "scrolled": true
   },
   "outputs": [
    {
     "data": {
      "text/plain": [
       "array([[ 1,  2,  3,  4],\n",
       "       [ 5,  6,  7,  8],\n",
       "       [ 9, 10, 11, 12]])"
      ]
     },
     "execution_count": 88,
     "metadata": {},
     "output_type": "execute_result"
    }
   ],
   "source": [
    "a #안바뀜"
   ]
  },
  {
   "cell_type": "markdown",
   "id": "a6398b60-ca92-42d3-91ed-2511feeef6c3",
   "metadata": {},
   "source": [
    "# 3. 배열의 산술연산\n",
    "두 배열의 크기가 같아야하며 R처럼 배수로 계산 불가"
   ]
  },
  {
   "cell_type": "code",
   "execution_count": 90,
   "id": "d03c6a06-a195-4a15-92b5-0ba55ac8560a",
   "metadata": {},
   "outputs": [
    {
     "data": {
      "text/plain": [
       "array([2, 3])"
      ]
     },
     "execution_count": 90,
     "metadata": {},
     "output_type": "execute_result"
    }
   ],
   "source": [
    "data = np.array([1, 2])\n",
    "ones = np.ones(2, dtype=int)\n",
    "data + ones #각 위치끼리 계산"
   ]
  },
  {
   "cell_type": "code",
   "execution_count": 91,
   "id": "c75ed667-35f1-429c-a494-d5f927d80772",
   "metadata": {},
   "outputs": [
    {
     "data": {
      "text/plain": [
       "(array([0, 1]), array([1, 4]), array([1., 1.]))"
      ]
     },
     "execution_count": 91,
     "metadata": {},
     "output_type": "execute_result"
    }
   ],
   "source": [
    "data-ones, data*data, data/data"
   ]
  },
  {
   "cell_type": "markdown",
   "id": "71cb4edd-5877-49d7-b42c-e3fbcae9bbfc",
   "metadata": {},
   "source": [
    "## 함수사용"
   ]
  },
  {
   "cell_type": "code",
   "execution_count": 98,
   "id": "3321ab44-ebcf-4bbf-a2d7-a97c93e6cda9",
   "metadata": {},
   "outputs": [
    {
     "data": {
      "text/plain": [
       "10"
      ]
     },
     "execution_count": 98,
     "metadata": {},
     "output_type": "execute_result"
    }
   ],
   "source": [
    "a=np.array([1,2,3,4]) # 1 차원\n",
    "a.sum()"
   ]
  },
  {
   "cell_type": "code",
   "execution_count": 99,
   "id": "1712798b-8e8b-40dc-a67f-9b465ed30fc0",
   "metadata": {},
   "outputs": [
    {
     "data": {
      "text/plain": [
       "array([3, 3])"
      ]
     },
     "execution_count": 99,
     "metadata": {},
     "output_type": "execute_result"
    }
   ],
   "source": [
    "b=np.array([[1,1],[2,2]]) #2차원\n",
    "b.sum(axis=0) #밑에 방향으로"
   ]
  },
  {
   "cell_type": "code",
   "execution_count": 100,
   "id": "835f81a6-e6e0-4405-a39d-1a4134dee140",
   "metadata": {},
   "outputs": [
    {
     "data": {
      "text/plain": [
       "array([2, 4])"
      ]
     },
     "execution_count": 100,
     "metadata": {},
     "output_type": "execute_result"
    }
   ],
   "source": [
    "b.sum(axis=1) #옆 방향으로"
   ]
  },
  {
   "cell_type": "code",
   "execution_count": 101,
   "id": "fd78a6ab-f1e2-4dc4-afbf-65c205018c08",
   "metadata": {},
   "outputs": [
    {
     "data": {
      "text/plain": [
       "6"
      ]
     },
     "execution_count": 101,
     "metadata": {},
     "output_type": "execute_result"
    }
   ],
   "source": [
    "b.sum() #전체"
   ]
  },
  {
   "cell_type": "markdown",
   "id": "ce4e1f78-3798-4e44-800e-3989277d36d8",
   "metadata": {},
   "source": [
    "# 4.broadcasting-다른 크기여도 연산 가능"
   ]
  },
  {
   "cell_type": "markdown",
   "id": "d7c1daea-eecb-4532-a806-a78b698c0ec3",
   "metadata": {},
   "source": [
    "## 배열과 스칼라의 연산"
   ]
  },
  {
   "cell_type": "code",
   "execution_count": 103,
   "id": "babdd123-fb6a-4e1a-8d04-9e4e91443313",
   "metadata": {},
   "outputs": [
    {
     "data": {
      "text/plain": [
       "array([1.6, 3.2])"
      ]
     },
     "execution_count": 103,
     "metadata": {},
     "output_type": "execute_result"
    }
   ],
   "source": [
    "data = np.array([1.0, 2.0])\n",
    "data * 1.6 #얘가 [1.6,1.6]형태가 되는 구조"
   ]
  },
  {
   "cell_type": "code",
   "execution_count": 113,
   "id": "6625c838-7125-454c-93cf-ba4ab9b16e43",
   "metadata": {},
   "outputs": [
    {
     "data": {
      "text/plain": [
       "array([[ 1,  2,  3,  4],\n",
       "       [ 5,  6,  7,  8],\n",
       "       [ 9, 10, 11, 12]])"
      ]
     },
     "execution_count": 113,
     "metadata": {},
     "output_type": "execute_result"
    }
   ],
   "source": [
    "data2=np.arange(12).reshape(3,4)\n",
    "data2+1  #가능"
   ]
  },
  {
   "cell_type": "markdown",
   "id": "bc951e9d-fc89-49b5-b936-423a88e8374f",
   "metadata": {},
   "source": [
    "## 2D와 1D의 계산\n",
    "(a X b)+ (c)에서 b와 c가 같아야함"
   ]
  },
  {
   "cell_type": "code",
   "execution_count": 114,
   "id": "ccd27c1c-84a9-4917-9859-0eaa2a78171a",
   "metadata": {},
   "outputs": [
    {
     "data": {
      "text/plain": [
       "((3, 4), (4,))"
      ]
     },
     "execution_count": 114,
     "metadata": {},
     "output_type": "execute_result"
    }
   ],
   "source": [
    "dd=np.arange(12).reshape(3,4)\n",
    "d=np.array([1,2,3,4])\n",
    "dd.shape,d.shape"
   ]
  },
  {
   "cell_type": "code",
   "execution_count": 115,
   "id": "64cea1fd-c0e9-4224-9183-e85fc3e984e8",
   "metadata": {},
   "outputs": [
    {
     "data": {
      "text/plain": [
       "array([[ 1,  3,  5,  7],\n",
       "       [ 5,  7,  9, 11],\n",
       "       [ 9, 11, 13, 15]])"
      ]
     },
     "execution_count": 115,
     "metadata": {},
     "output_type": "execute_result"
    }
   ],
   "source": [
    "dd+d #가능-> d를 믿으로 늘린 느낌"
   ]
  },
  {
   "cell_type": "code",
   "execution_count": 116,
   "id": "d9452245-0bd6-47f6-a245-d565996f192b",
   "metadata": {},
   "outputs": [
    {
     "ename": "ValueError",
     "evalue": "operands could not be broadcast together with shapes (3,4) (4,1) ",
     "output_type": "error",
     "traceback": [
      "\u001b[1;31m---------------------------------------------------------------------------\u001b[0m",
      "\u001b[1;31mValueError\u001b[0m                                Traceback (most recent call last)",
      "Cell \u001b[1;32mIn[116], line 2\u001b[0m\n\u001b[0;32m      1\u001b[0m d2\u001b[38;5;241m=\u001b[39mnp\u001b[38;5;241m.\u001b[39marray([\u001b[38;5;241m1\u001b[39m,\u001b[38;5;241m2\u001b[39m,\u001b[38;5;241m3\u001b[39m,\u001b[38;5;241m4\u001b[39m])\u001b[38;5;241m.\u001b[39mreshape(\u001b[38;5;241m4\u001b[39m,\u001b[38;5;241m1\u001b[39m)\n\u001b[1;32m----> 2\u001b[0m dd\u001b[38;5;241m+\u001b[39md2\n",
      "\u001b[1;31mValueError\u001b[0m: operands could not be broadcast together with shapes (3,4) (4,1) "
     ]
    }
   ],
   "source": [
    "d2=np.array([1,2,3,4]).reshape(4,1)\n",
    "dd+d2  # d2가 1행이라도 2차원이 된 순간 불가"
   ]
  },
  {
   "cell_type": "code",
   "execution_count": 118,
   "id": "6d32ceed-5bae-497f-86ca-8168b5a2d6de",
   "metadata": {},
   "outputs": [
    {
     "ename": "ValueError",
     "evalue": "operands could not be broadcast together with shapes (3,4) (3,) ",
     "output_type": "error",
     "traceback": [
      "\u001b[1;31m---------------------------------------------------------------------------\u001b[0m",
      "\u001b[1;31mValueError\u001b[0m                                Traceback (most recent call last)",
      "Cell \u001b[1;32mIn[118], line 2\u001b[0m\n\u001b[0;32m      1\u001b[0m d3\u001b[38;5;241m=\u001b[39mnp\u001b[38;5;241m.\u001b[39marray([\u001b[38;5;241m1\u001b[39m,\u001b[38;5;241m2\u001b[39m,\u001b[38;5;241m3\u001b[39m])\n\u001b[1;32m----> 2\u001b[0m dd\u001b[38;5;241m+\u001b[39md3\n",
      "\u001b[1;31mValueError\u001b[0m: operands could not be broadcast together with shapes (3,4) (3,) "
     ]
    }
   ],
   "source": [
    "d3=np.array([1,2,3])\n",
    "dd+d3 #불가 "
   ]
  },
  {
   "cell_type": "code",
   "execution_count": 122,
   "id": "8a591072-aad8-41bc-b1e1-b3468060dde2",
   "metadata": {
    "scrolled": true
   },
   "outputs": [
    {
     "ename": "ValueError",
     "evalue": "operands could not be broadcast together with shapes (3,4) (2,) ",
     "output_type": "error",
     "traceback": [
      "\u001b[1;31m---------------------------------------------------------------------------\u001b[0m",
      "\u001b[1;31mValueError\u001b[0m                                Traceback (most recent call last)",
      "Cell \u001b[1;32mIn[122], line 2\u001b[0m\n\u001b[0;32m      1\u001b[0m d4\u001b[38;5;241m=\u001b[39mnp\u001b[38;5;241m.\u001b[39marray([\u001b[38;5;241m1\u001b[39m,\u001b[38;5;241m2\u001b[39m])\n\u001b[1;32m----> 2\u001b[0m dd\u001b[38;5;241m+\u001b[39md4\n",
      "\u001b[1;31mValueError\u001b[0m: operands could not be broadcast together with shapes (3,4) (2,) "
     ]
    }
   ],
   "source": [
    "d4=np.array([1,2])\n",
    "dd+d4 #배수 관계여도 R처럼 안됨"
   ]
  },
  {
   "cell_type": "markdown",
   "id": "972d3cc8-4457-4239-9712-7023e057cd38",
   "metadata": {},
   "source": [
    "## 2D와 2D연산에서 하나의 2D가 (1 X a)형태 이면 가능"
   ]
  },
  {
   "cell_type": "code",
   "execution_count": 143,
   "id": "3beda3c2-f888-40d0-9dc2-5432a7664bc2",
   "metadata": {},
   "outputs": [
    {
     "data": {
      "text/plain": [
       "array([[   1,   11,  102, 1003],\n",
       "       [   5,   15,  106, 1007],\n",
       "       [   9,   19,  110, 1011]])"
      ]
     },
     "execution_count": 143,
     "metadata": {},
     "output_type": "execute_result"
    }
   ],
   "source": [
    "dd2=np.array([[1,10,100,1000]])\n",
    "dd+dd2"
   ]
  },
  {
   "cell_type": "code",
   "execution_count": 145,
   "id": "84245c11-57ca-4860-8e35-9a60185db7d1",
   "metadata": {
    "scrolled": true
   },
   "outputs": [
    {
     "data": {
      "text/plain": [
       "array([[   1,   11,  102, 1003],\n",
       "       [   5,   15,  106, 1007],\n",
       "       [   9,   19,  110, 1011]])"
      ]
     },
     "execution_count": 145,
     "metadata": {},
     "output_type": "execute_result"
    }
   ],
   "source": [
    "dd2+dd #순서 바꿔도 가능"
   ]
  },
  {
   "cell_type": "markdown",
   "id": "43b0beeb-f0a0-4318-9117-31d4ac640deb",
   "metadata": {},
   "source": [
    "## 1D간의 크기 다른 연산은 앞에껄 축 확장"
   ]
  },
  {
   "cell_type": "code",
   "execution_count": 129,
   "id": "cd298c05-ff57-4643-9d35-42dd50113fab",
   "metadata": {},
   "outputs": [
    {
     "data": {
      "text/plain": [
       "array([[ 1,  2,  3],\n",
       "       [11, 12, 13],\n",
       "       [21, 22, 23],\n",
       "       [31, 32, 33]])"
      ]
     },
     "execution_count": 129,
     "metadata": {},
     "output_type": "execute_result"
    }
   ],
   "source": [
    "a=np.array([0,10,20,30])\n",
    "b=np.array([1,2,3])\n",
    "a[:,np.newaxis]+b #a를 np.newaxis로 옆으로 늘리면 가능, 각 a값은 행이 아닌 열로"
   ]
  },
  {
   "cell_type": "markdown",
   "id": "957f08d8-cbd7-4ad6-bd36-7e55ecd6003b",
   "metadata": {},
   "source": [
    "# 5. 1D, 2D에서 함수 사용"
   ]
  },
  {
   "cell_type": "markdown",
   "id": "37f26709-12bf-4a61-b461-f5fe365772c9",
   "metadata": {},
   "source": [
    "https://numpy.org/doc/stable/reference/arrays.ndarray.html#array-ndarray-methods  \n",
    "쓸수있는 함수들 목록"
   ]
  },
  {
   "cell_type": "code",
   "execution_count": 130,
   "id": "05551806-5a75-4d4c-a44f-196593a9f39b",
   "metadata": {},
   "outputs": [],
   "source": [
    "a = np.array([[0.45053314, 0.17296777, 0.34376245, 0.5510652],\n",
    "              [0.54627315, 0.05093587, 0.40067661, 0.55645993],\n",
    "              [0.12697628, 0.82485143, 0.26590556, 0.56917101]])"
   ]
  },
  {
   "cell_type": "code",
   "execution_count": 137,
   "id": "d54f6002-0539-47d7-9078-d0467af3cec7",
   "metadata": {},
   "outputs": [
    {
     "data": {
      "text/plain": [
       "(0.82485143,\n",
       " 0.05093587,\n",
       " 4.8595784,\n",
       " 0.4049648666666667,\n",
       " 1.4517216120884712e-06,\n",
       " 0.21392120766089617,\n",
       " 0.04576228308709627)"
      ]
     },
     "execution_count": 137,
     "metadata": {},
     "output_type": "execute_result"
    }
   ],
   "source": [
    "a.max(), a.min(), a.sum(), a.mean(), a.prod(), a.std(),a.var() #prod->전부 곱하기, std->표준편차, var->분산"
   ]
  },
  {
   "cell_type": "code",
   "execution_count": 138,
   "id": "bdb063f1-8f28-412f-8497-636dde2fd283",
   "metadata": {},
   "outputs": [
    {
     "data": {
      "text/plain": [
       "(array([0.03125066, 0.00726716, 0.03662519, 0.17453384]),\n",
       " array([0.1794018 , 0.33973673, 0.05524104, 0.00759016]))"
      ]
     },
     "execution_count": 138,
     "metadata": {},
     "output_type": "execute_result"
    }
   ],
   "source": [
    "a.prod(axis=0),a.std(axis=0) #밑으로(각 열을 그룹으로)"
   ]
  },
  {
   "cell_type": "code",
   "execution_count": 139,
   "id": "434e60f9-a875-4bc0-90eb-e58d061c4dad",
   "metadata": {},
   "outputs": [
    {
     "data": {
      "text/plain": [
       "(array([0.01476228, 0.00620385, 0.01585143]),\n",
       " array([0.14001164, 0.2044509 , 0.27060466]))"
      ]
     },
     "execution_count": 139,
     "metadata": {},
     "output_type": "execute_result"
    }
   ],
   "source": [
    "a.prod(axis=1),a.std(axis=1) #옆으로(각 행을 그룹으로)"
   ]
  }
 ],
 "metadata": {
  "kernelspec": {
   "display_name": "Python 3 (ipykernel)",
   "language": "python",
   "name": "python3"
  },
  "language_info": {
   "codemirror_mode": {
    "name": "ipython",
    "version": 3
   },
   "file_extension": ".py",
   "mimetype": "text/x-python",
   "name": "python",
   "nbconvert_exporter": "python",
   "pygments_lexer": "ipython3",
   "version": "3.12.7"
  }
 },
 "nbformat": 4,
 "nbformat_minor": 5
}

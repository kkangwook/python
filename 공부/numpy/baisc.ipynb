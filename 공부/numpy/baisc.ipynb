{
 "cells": [
  {
   "cell_type": "markdown",
   "id": "d8f2def6-2285-4732-b51b-0722cee81a0b",
   "metadata": {},
   "source": [
    "# 1.넘파이\n",
    "행렬이나 다차원 배열 연산"
   ]
  },
  {
   "cell_type": "markdown",
   "id": "4890db6c-c059-4f12-991e-6d59f8972500",
   "metadata": {},
   "source": [
    "## 넘파이 없이 리스트 전체에 10곱하기"
   ]
  },
  {
   "cell_type": "code",
   "execution_count": 1,
   "id": "bf668693-9095-44e3-8348-0e98665a3b6a",
   "metadata": {},
   "outputs": [
    {
     "data": {
      "text/plain": [
       "[10, 20, 30, 40]"
      ]
     },
     "execution_count": 1,
     "metadata": {},
     "output_type": "execute_result"
    }
   ],
   "source": [
    "data=[1,2,3,4]\n",
    "result=[]\n",
    "for i in data:\n",
    "    result.append(i*10)\n",
    "result"
   ]
  },
  {
   "cell_type": "markdown",
   "id": "5ecdf9be-779d-4546-a266-a687e19a7939",
   "metadata": {},
   "source": [
    "## 넘파이의 array사용"
   ]
  },
  {
   "cell_type": "code",
   "execution_count": 1,
   "id": "7d239776-e3c0-43d6-925b-4625b7b97206",
   "metadata": {},
   "outputs": [],
   "source": [
    "import numpy as np"
   ]
  },
  {
   "cell_type": "code",
   "execution_count": 6,
   "id": "a6dcd3bf-8a3a-4cc9-94fc-085d7ea9b92e",
   "metadata": {},
   "outputs": [
    {
     "name": "stdout",
     "output_type": "stream",
     "text": [
      "[10 20 30 40]\n",
      "<class 'numpy.ndarray'>\n"
     ]
    }
   ],
   "source": [
    "arr=np.array([1,2,3,4])\n",
    "arr=arr*10\n",
    "print(arr)\n",
    "print(type(arr)) #ndarray"
   ]
  },
  {
   "cell_type": "markdown",
   "id": "b4402978-bbab-446c-907e-746a8b5bcf6b",
   "metadata": {},
   "source": [
    "## 2차원 데이터"
   ]
  },
  {
   "cell_type": "code",
   "execution_count": 2,
   "id": "ed6835f8-9b5a-4a3b-89b0-e7ded82d415a",
   "metadata": {},
   "outputs": [
    {
     "data": {
      "text/plain": [
       "[100, 80, 70, 90]"
      ]
     },
     "execution_count": 2,
     "metadata": {},
     "output_type": "execute_result"
    }
   ],
   "source": [
    "price=[\n",
    "    [100,80,70,90],\n",
    "    [120,110,100,110]\n",
    "]\n",
    "price[0] #1번째 열인 100과 120을 뽑고싶지만 안됨"
   ]
  },
  {
   "cell_type": "code",
   "execution_count": 3,
   "id": "b580d69e-9472-45cd-aba3-14a075a50da3",
   "metadata": {},
   "outputs": [
    {
     "name": "stdout",
     "output_type": "stream",
     "text": [
      "[100  80  70  90]\n",
      "[100 120]\n"
     ]
    }
   ],
   "source": [
    "arr2=np.array(price)\n",
    "print(arr2[0]) #1번째 행\n",
    "print(arr2[:,0]) #[x,y]로 원하는 행,열 가져오기 가능"
   ]
  },
  {
   "cell_type": "code",
   "execution_count": 5,
   "id": "1b941b8f-fe10-43a2-8b79-60dc7ed35879",
   "metadata": {},
   "outputs": [
    {
     "data": {
      "text/plain": [
       "array([[100,  80],\n",
       "       [120, 110]])"
      ]
     },
     "execution_count": 5,
     "metadata": {},
     "output_type": "execute_result"
    }
   ],
   "source": [
    "arr2[:,[0,1]] #행렬로 나옴"
   ]
  },
  {
   "cell_type": "markdown",
   "id": "0240216e-b6ef-4233-baa4-c4f4366cbcc3",
   "metadata": {},
   "source": [
    "## arange\n",
    "파이썬의 range()"
   ]
  },
  {
   "cell_type": "code",
   "execution_count": 13,
   "id": "45b24ac0-e3fd-4363-b83c-322ad5fea181",
   "metadata": {},
   "outputs": [
    {
     "data": {
      "text/plain": [
       "array([0, 1, 2, 3, 4, 5, 6, 7, 8, 9])"
      ]
     },
     "execution_count": 13,
     "metadata": {},
     "output_type": "execute_result"
    }
   ],
   "source": [
    "arr3=np.arange(10) #0~10-1까지\n",
    "arr3"
   ]
  },
  {
   "cell_type": "code",
   "execution_count": 15,
   "id": "c24c5204-5258-4cf0-82a3-8211d6000f8d",
   "metadata": {},
   "outputs": [
    {
     "data": {
      "text/plain": [
       "array([1, 2, 3, 4, 5, 6, 7, 8, 9])"
      ]
     },
     "execution_count": 15,
     "metadata": {},
     "output_type": "execute_result"
    }
   ],
   "source": [
    "arr4=np.arange(1,10) #1~10-1까지\n",
    "arr4"
   ]
  },
  {
   "cell_type": "code",
   "execution_count": 19,
   "id": "d350f742-fe02-45b5-ab6f-9c13928f27a8",
   "metadata": {},
   "outputs": [
    {
     "data": {
      "text/plain": [
       "array([[0, 1],\n",
       "       [2, 3],\n",
       "       [4, 5],\n",
       "       [6, 7],\n",
       "       [8, 9]])"
      ]
     },
     "execution_count": 19,
     "metadata": {},
     "output_type": "execute_result"
    }
   ],
   "source": [
    "x=np.arange(10).reshape(5,2) #5행 2열로\n",
    "x"
   ]
  },
  {
   "cell_type": "markdown",
   "id": "67850cbe-4eab-4ebe-8da3-ed2ab9b21200",
   "metadata": {},
   "source": [
    "## 함수 적용"
   ]
  },
  {
   "cell_type": "code",
   "execution_count": 17,
   "id": "1363bda7-899c-40e4-998c-29f334f7a7c1",
   "metadata": {},
   "outputs": [
    {
     "data": {
      "text/plain": [
       "array([10, 20, 30, 40])"
      ]
     },
     "execution_count": 17,
     "metadata": {},
     "output_type": "execute_result"
    }
   ],
   "source": [
    "arr"
   ]
  },
  {
   "cell_type": "code",
   "execution_count": 18,
   "id": "95416c0f-e57e-43d0-b876-fa382f18629c",
   "metadata": {},
   "outputs": [
    {
     "data": {
      "text/plain": [
       "100"
      ]
     },
     "execution_count": 18,
     "metadata": {},
     "output_type": "execute_result"
    }
   ],
   "source": [
    "arr.sum()"
   ]
  },
  {
   "cell_type": "code",
   "execution_count": 21,
   "id": "c6ebd19e-6530-4031-bd8e-61967fe89184",
   "metadata": {},
   "outputs": [
    {
     "data": {
      "text/plain": [
       "45"
      ]
     },
     "execution_count": 21,
     "metadata": {},
     "output_type": "execute_result"
    }
   ],
   "source": [
    "x.sum() #전부"
   ]
  },
  {
   "cell_type": "code",
   "execution_count": 25,
   "id": "4e837c89-9e1d-4190-ad1c-a403ad922420",
   "metadata": {},
   "outputs": [
    {
     "name": "stdout",
     "output_type": "stream",
     "text": [
      "[20 25]\n",
      "[ 1  5  9 13 17]\n",
      "45\n"
     ]
    }
   ],
   "source": [
    "print(x.sum(axis=0)) #같은 열끼리\n",
    "print(x.sum(axis=1)) #같은 행끼리\n",
    "print(x.sum(axis=None)) #전체 데이터"
   ]
  },
  {
   "cell_type": "markdown",
   "id": "1b315f8b-d681-4468-9096-6e585e7bf45b",
   "metadata": {},
   "source": [
    "## random숫자 만들기"
   ]
  },
  {
   "cell_type": "code",
   "execution_count": 33,
   "id": "9fa2f7e2-eedb-47bb-aaca-6faadf26b410",
   "metadata": {},
   "outputs": [
    {
     "data": {
      "text/plain": [
       "1"
      ]
     },
     "execution_count": 33,
     "metadata": {},
     "output_type": "execute_result"
    }
   ],
   "source": [
    "np.random.randint(3) #0~3-1숫자중 한개"
   ]
  },
  {
   "cell_type": "code",
   "execution_count": 34,
   "id": "37544769-dce5-4459-95f5-57388e5ae33b",
   "metadata": {},
   "outputs": [
    {
     "data": {
      "text/plain": [
       "array([31, 28, 41, 10, 20])"
      ]
     },
     "execution_count": 34,
     "metadata": {},
     "output_type": "execute_result"
    }
   ],
   "source": [
    "np.random.randint(46, size=5) #0~45중 5개"
   ]
  },
  {
   "cell_type": "code",
   "execution_count": 35,
   "id": "214b35a8-6d36-4f28-bc1f-d1c424523ebb",
   "metadata": {},
   "outputs": [
    {
     "data": {
      "text/plain": [
       "array([[25, 15, 29, 12,  1],\n",
       "       [42, 42,  5, 28, 20]])"
      ]
     },
     "execution_count": 35,
     "metadata": {},
     "output_type": "execute_result"
    }
   ],
   "source": [
    "np.random.randint(46, size=(2, 5)) #2행 5열 행렬로"
   ]
  },
  {
   "cell_type": "markdown",
   "id": "4e2c4437-24c7-48f5-b2d4-11df1b2780fc",
   "metadata": {},
   "source": [
    "# linspace=range(a,b,c)"
   ]
  },
  {
   "cell_type": "code",
   "execution_count": 36,
   "id": "8b057160-930c-4d7e-b8e4-cddfe8309b0f",
   "metadata": {},
   "outputs": [
    {
     "name": "stdout",
     "output_type": "stream",
     "text": [
      "[ 0.  5. 10.]\n"
     ]
    }
   ],
   "source": [
    "x = np.linspace(0, 10, 3) #0~10까지에서 균등하게 3등분\n",
    "print(x)"
   ]
  },
  {
   "cell_type": "markdown",
   "id": "b1ba5a3b-ede6-4e37-9cb9-a157fac71c35",
   "metadata": {},
   "source": [
    "## stack함수\n",
    "bind하여 행렬만들기"
   ]
  },
  {
   "cell_type": "code",
   "execution_count": 40,
   "id": "a5c538b3-582d-480d-b00a-d3249314d952",
   "metadata": {},
   "outputs": [
    {
     "data": {
      "text/plain": [
       "array([[0, 1, 2, 3],\n",
       "       [4, 5, 6, 7]])"
      ]
     },
     "execution_count": 40,
     "metadata": {},
     "output_type": "execute_result"
    }
   ],
   "source": [
    "a = np.arange(4)\n",
    "b = np.arange(4, 8)\n",
    "c = np.vstack( [a, b]) #수직방향으로=a밑에b쌓음\n",
    "c"
   ]
  },
  {
   "cell_type": "code",
   "execution_count": 41,
   "id": "4ae7b28a-aaf7-458c-9445-2bcfae62c3d6",
   "metadata": {},
   "outputs": [
    {
     "data": {
      "text/plain": [
       "array([0, 1, 2, 3, 4, 5, 6, 7])"
      ]
     },
     "execution_count": 41,
     "metadata": {},
     "output_type": "execute_result"
    }
   ],
   "source": [
    "a = np.arange(4)\n",
    "b = np.arange(4, 8)\n",
    "c = np.hstack( [a, b]) #수평방향으로=a옆에b\n",
    "c"
   ]
  }
 ],
 "metadata": {
  "kernelspec": {
   "display_name": "Python 3 (ipykernel)",
   "language": "python",
   "name": "python3"
  },
  "language_info": {
   "codemirror_mode": {
    "name": "ipython",
    "version": 3
   },
   "file_extension": ".py",
   "mimetype": "text/x-python",
   "name": "python",
   "nbconvert_exporter": "python",
   "pygments_lexer": "ipython3",
   "version": "3.12.7"
  }
 },
 "nbformat": 4,
 "nbformat_minor": 5
}
